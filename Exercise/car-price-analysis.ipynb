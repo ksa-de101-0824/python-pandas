{
 "cells": [
  {
   "cell_type": "code",
   "execution_count": 47,
   "metadata": {},
   "outputs": [
    {
     "name": "stdout",
     "output_type": "stream",
     "text": [
      "Processing data for year 2000...\n",
      "Processing data for year 2001...\n",
      "Processing data for year 2002...\n",
      "Processing data for year 2003...\n",
      "Processing data for year 2004...\n",
      "Processing data for year 2005...\n",
      "Processing data for year 2006...\n",
      "Processing data for year 2007...\n",
      "Processing data for year 2008...\n",
      "Processing data for year 2009...\n",
      "Processing data for year 2010...\n",
      "Processing data for year 2011...\n",
      "Processing data for year 2012...\n",
      "Processing data for year 2013...\n",
      "Processing data for year 2014...\n",
      "Processing data for year 2015...\n",
      "Processing data for year 2016...\n",
      "Processing data for year 2017...\n",
      "Processing data for year 2018...\n",
      "Processing data for year 2019...\n",
      "Processing data for year 2020...\n",
      "Processing data for year 2021...\n",
      "Processing data for year 2022...\n",
      "Processing data for year 2023...\n",
      "Processing data for year 2024...\n"
     ]
    }
   ],
   "source": [
    "# If not already installed, do: pip install pandas fastparquet\n",
    "import pandas as pd\n",
    "\n",
    "def process_year_data(year):\n",
    "    url = f'https://storage.data.gov.my/transportation/cars_{year}.parquet'\n",
    "    try:\n",
    "        df = pd.read_parquet(url)\n",
    "        if 'date_reg' in df.columns:\n",
    "            df['date_reg'] = pd.to_datetime(df['date_reg'])\n",
    "        df['year'] = df['date_reg'].dt.year\n",
    "        return df\n",
    "    except Exception as e:\n",
    "        print(f\"Error processing data for year {year}: {str(e)}\")\n",
    "        return None\n",
    "    \n",
    "start_year = 2000\n",
    "end_year = 2024  \n",
    "\n",
    "dfs = []\n",
    "for year in range(start_year, end_year + 1):\n",
    "    print(f\"Processing data for year {year}...\")\n",
    "    df = process_year_data(year)\n",
    "    if df is not None:\n",
    "        dfs.append(df)\n",
    "\n",
    "# Combine all dataframes\n",
    "combined_df = pd.concat(dfs, ignore_index=True)\n",
    "\n",
    "combined_df.reset_index()\n",
    "\n",
    "if 'date_reg' in combined_df.columns: combined_df['date_reg'] = pd.to_datetime(combined_df['date_reg'])\n",
    "\n",
    "# Group by year and model, then count the registrations\n",
    "yearly_model_counts = combined_df.groupby(['year', 'model']).size().reset_index(name='count')\n"
   ]
  },
  {
   "cell_type": "code",
   "execution_count": 1,
   "metadata": {},
   "outputs": [
    {
     "ename": "NameError",
     "evalue": "name 'yearly_model_counts' is not defined",
     "output_type": "error",
     "traceback": [
      "\u001b[0;31m---------------------------------------------------------------------------\u001b[0m",
      "\u001b[0;31mNameError\u001b[0m                                 Traceback (most recent call last)",
      "Cell \u001b[0;32mIn[1], line 1\u001b[0m\n\u001b[0;32m----> 1\u001b[0m top_models_by_year \u001b[38;5;241m=\u001b[39m \u001b[43myearly_model_counts\u001b[49m\u001b[38;5;241m.\u001b[39mloc[yearly_model_counts\u001b[38;5;241m.\u001b[39mgroupby(\u001b[38;5;124m'\u001b[39m\u001b[38;5;124myear\u001b[39m\u001b[38;5;124m'\u001b[39m)[\u001b[38;5;124m'\u001b[39m\u001b[38;5;124mcount\u001b[39m\u001b[38;5;124m'\u001b[39m]\u001b[38;5;241m.\u001b[39midxmax()]\n\u001b[1;32m      2\u001b[0m top_models_by_year\n",
      "\u001b[0;31mNameError\u001b[0m: name 'yearly_model_counts' is not defined"
     ]
    }
   ],
   "source": [
    "top_models_by_year = yearly_model_counts.loc[yearly_model_counts.groupby('year')['count'].idxmax()]\n",
    "top_models_by_year\n"
   ]
  },
  {
   "cell_type": "code",
   "execution_count": null,
   "metadata": {},
   "outputs": [],
   "source": []
  }
 ],
 "metadata": {
  "kernelspec": {
   "display_name": "Python 3",
   "language": "python",
   "name": "python3"
  },
  "language_info": {
   "codemirror_mode": {
    "name": "ipython",
    "version": 3
   },
   "file_extension": ".py",
   "mimetype": "text/x-python",
   "name": "python",
   "nbconvert_exporter": "python",
   "pygments_lexer": "ipython3",
   "version": "3.12.1"
  }
 },
 "nbformat": 4,
 "nbformat_minor": 2
}
