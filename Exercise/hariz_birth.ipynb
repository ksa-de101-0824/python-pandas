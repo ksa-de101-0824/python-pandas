{
 "cells": [
  {
   "cell_type": "code",
   "execution_count": 1,
   "metadata": {},
   "outputs": [],
   "source": [
    "import pandas as pd"
   ]
  },
  {
   "cell_type": "code",
   "execution_count": 2,
   "metadata": {},
   "outputs": [
    {
     "name": "stdout",
     "output_type": "stream",
     "text": [
      "         date     state  births\n",
      "0  1920-01-01  Malaysia      96\n",
      "1  1920-01-02  Malaysia     115\n",
      "2  1920-01-03  Malaysia     111\n",
      "3  1920-01-04  Malaysia     101\n",
      "4  1920-01-05  Malaysia      95\n"
     ]
    }
   ],
   "source": [
    "# The data source is from Malaysia DOSM (https://data.gov.my/data-catalogue/births)\n",
    "URL_DATA = 'https://storage.data.gov.my/demography/births.parquet'\n",
    "\n",
    "# Extract data from source\n",
    "df = pd.read_parquet(URL_DATA)\n",
    "\n",
    "print(df.head())"
   ]
  },
  {
   "cell_type": "code",
   "execution_count": 5,
   "metadata": {},
   "outputs": [
    {
     "name": "stdout",
     "output_type": "stream",
     "text": [
      "date:[datetime.date(1920, 1, 1) datetime.date(1920, 1, 2)\n",
      " datetime.date(1920, 1, 3) ... datetime.date(2023, 7, 29)\n",
      " datetime.date(2023, 7, 30) datetime.date(2023, 7, 31)]\n",
      "births:[  96  115  111 ... 1791 1754 1801]\n"
     ]
    }
   ],
   "source": [
    "# combine mismatch unique values for different columns and merge them into a sigle dataframe\n",
    "subset_columns = [\"date\",\"births\"]\n",
    "\n",
    "for col in subset_columns:\n",
    "    print(f\"{col}:{df[col].unique()}\")"
   ]
  },
  {
   "cell_type": "code",
   "execution_count": 6,
   "metadata": {},
   "outputs": [
    {
     "name": "stdout",
     "output_type": "stream",
     "text": [
      "<class 'pandas.core.frame.DataFrame'>\n",
      "RangeIndex: 37833 entries, 0 to 37832\n",
      "Data columns (total 3 columns):\n",
      " #   Column  Non-Null Count  Dtype \n",
      "---  ------  --------------  ----- \n",
      " 0   date    37833 non-null  object\n",
      " 1   state   37833 non-null  object\n",
      " 2   births  37833 non-null  int64 \n",
      "dtypes: int64(1), object(2)\n",
      "memory usage: 886.8+ KB\n"
     ]
    }
   ],
   "source": [
    "df.info()"
   ]
  },
  {
   "cell_type": "code",
   "execution_count": 7,
   "metadata": {},
   "outputs": [
    {
     "name": "stdout",
     "output_type": "stream",
     "text": [
      "             date     state births\n",
      "0      1920-01-01  Malaysia   96.0\n",
      "1      1920-01-02         -  115.0\n",
      "2      1920-01-03         -  111.0\n",
      "3      1920-01-04         -  101.0\n",
      "4      1920-01-05         -   95.0\n",
      "...           ...       ...    ...\n",
      "37828  2023-07-27         -      -\n",
      "37829  2023-07-28         -      -\n",
      "37830  2023-07-29         -      -\n",
      "37831  2023-07-30         -      -\n",
      "37832  2023-07-31         -      -\n",
      "\n",
      "[37833 rows x 3 columns]\n"
     ]
    }
   ],
   "source": [
    "import pandas as pd\n",
    "\n",
    "# Assuming df is your original DataFrame\n",
    "# Create a new DataFrame to store the combined unique values\n",
    "combined_df = pd.DataFrame()\n",
    "\n",
    "# Iterate through each column in the original DataFrame\n",
    "for column in df.columns:\n",
    "    # Get unique values for the current column\n",
    "    unique_values = df[column].unique()\n",
    "    \n",
    "    # Create a temporary DataFrame for this column's unique values\n",
    "    temp_df = pd.DataFrame({column: unique_values})\n",
    "    \n",
    "    # Merge the temporary DataFrame with the combined DataFrame\n",
    "    if combined_df.empty:\n",
    "        combined_df = temp_df\n",
    "    else:\n",
    "        combined_df = pd.merge(combined_df, temp_df, how='outer', left_index=True, right_index=True)\n",
    "\n",
    "# Fill NaN values with a placeholder (e.g., '-') if desired\n",
    "combined_df = combined_df.fillna('-')\n",
    "\n",
    "# Reset the index to create a clean, numeric index\n",
    "combined_df = combined_df.reset_index(drop=True)\n",
    "\n",
    "print(combined_df)"
   ]
  },
  {
   "cell_type": "code",
   "execution_count": 16,
   "metadata": {},
   "outputs": [],
   "source": [
    "from datetime import datetime\n",
    "\n",
    "date = datetime.strptime(\"24-08-10\", \"%y-%m-%d\")\n"
   ]
  },
  {
   "cell_type": "code",
   "execution_count": 22,
   "metadata": {},
   "outputs": [
    {
     "name": "stdout",
     "output_type": "stream",
     "text": [
      "   MONTH_NAME  AVERAGE_BIRTHS\n",
      "4     January          928.12\n",
      "3    February          904.98\n",
      "7       March          926.43\n",
      "0       April          945.39\n",
      "8         May          959.32\n",
      "6        June          960.35\n",
      "5        July          946.09\n",
      "1      August          951.49\n",
      "11  September          981.74\n",
      "10    October          985.88\n",
      "9    November          963.22\n",
      "2    December          951.10\n"
     ]
    }
   ],
   "source": [
    "# Task 2a: Extract the Month name (e.g. January/February/March etc) into another column called \"MONTH_NAME\"\n",
    "# Then get average of births aggregate/group by MONTH_NAME\n",
    "# The expected dataframe is something like this:\n",
    "\n",
    "# |----------------|-----------|\n",
    "# |MONTH_NAME      | AVG_BIRTH |\n",
    "# |----------------|-----------|\n",
    "# |JANUARY XXX     |           |\n",
    "# |FEBRUARY XXX    |           |\n",
    "# |MARCH XXX       |           |\n",
    "#   .....           \n",
    "\n",
    "import pandas as pd\n",
    "\n",
    "# Assuming your DataFrame is named df and has 'date' and 'births' columns\n",
    "\n",
    "# Step 1: Extract the Month name\n",
    "df['MONTH_NAME'] = df['date'].dt.strftime('%B')\n",
    "\n",
    "# Step 2: Use groupby to calculate statistics by month\n",
    "births_by_month = df.groupby('MONTH_NAME')['births'].agg([\n",
    "    ('AVERAGE_BIRTHS', 'mean')\n",
    "]).reset_index()\n",
    "\n",
    "# Step 3: Sort the results by month order\n",
    "month_order = ['January', 'February', 'March', 'April', 'May', 'June', \n",
    "               'July', 'August', 'September', 'October', 'November', 'December']\n",
    "births_by_month['month_order'] = pd.Categorical(births_by_month['MONTH_NAME'], categories=month_order, ordered=True)\n",
    "births_by_month = births_by_month.sort_values('month_order').drop('month_order', axis=1)\n",
    "\n",
    "# Step 4: Round the numeric columns to 2 decimal places\n",
    "births_by_month['AVERAGE_BIRTHS'] = births_by_month['AVERAGE_BIRTHS'].round(2)\n",
    "\n",
    "# Display the result\n",
    "print(births_by_month)\n"
   ]
  },
  {
   "cell_type": "code",
   "execution_count": 23,
   "metadata": {},
   "outputs": [
    {
     "name": "stdout",
     "output_type": "stream",
     "text": [
      "File saved as: hariz_avg_birth_by_month.csv\n"
     ]
    }
   ],
   "source": [
    "# Task 2b: Save the aggregated dataframe in task 2a above into CSV file without index (index=False) in the same folder as this file\n",
    "# The filename shall be your nickname + _avg_birth_by_month.csv\n",
    "# Example: azhar_avg_birth_by_month.csv\n",
    "# No space is allowed. But make sure your nickname is recognizable for evaluation.\n",
    "\n",
    "import pandas as pd\n",
    "\n",
    "# Assuming you've already created the aggregated DataFrame as shown in the previous example\n",
    "# Let's call it 'births_by_month'\n",
    "\n",
    "# Replace 'your_nickname' with your actual nickname\n",
    "nickname = \"hariz\"\n",
    "\n",
    "# Create the filename\n",
    "filename = f\"{nickname}_avg_birth_by_month.csv\"\n",
    "\n",
    "# Save the DataFrame to CSV without the index\n",
    "births_by_month.to_csv(filename, index=False)\n",
    "\n",
    "print(f\"File saved as: {filename}\")"
   ]
  },
  {
   "cell_type": "code",
   "execution_count": 24,
   "metadata": {},
   "outputs": [
    {
     "name": "stdout",
     "output_type": "stream",
     "text": [
      "          GENERATION  AVG_BIRTH\n",
      "0  Silent Generation     319.76\n",
      "1       Baby Boomers     764.40\n",
      "2              Gen X    1057.83\n",
      "3              Gen Y    1417.43\n"
     ]
    }
   ],
   "source": [
    "# Task 3a: Create a dataframe to calculate average birth by the following generation group:\n",
    "# --> Silent Generation - from 1928 to 1945 included\n",
    "# --> Baby Boomers - from 1946 to 1964 included\n",
    "# --> Gen X - from 1965 to 1980 included\n",
    "# --> Gen Y - from 1981 to 1996 included\n",
    "# The expected dataframe is something like this:\n",
    "\n",
    "# |----------------|-----------|\n",
    "# |GENERATION      | AVG_BIRTH |\n",
    "# |----------------|-----------|\n",
    "# |Gen X           |           |\n",
    "# |Gen Y           |           |\n",
    "# ......\n",
    "\n",
    "# Hint: Use for-loop and if/else\n",
    "\n",
    "import pandas as pd\n",
    "import numpy as np\n",
    "\n",
    "# Assuming your DataFrame is named df and has 'date' and 'births' columns\n",
    "\n",
    "# Define the generation ranges\n",
    "generations = {\n",
    "    'Silent Generation': (1928, 1945),\n",
    "    'Baby Boomers': (1946, 1964),\n",
    "    'Gen X': (1965, 1980),\n",
    "    'Gen Y': (1981, 1996)\n",
    "}\n",
    "\n",
    "# Initialize lists to store results\n",
    "gen_names = []\n",
    "avg_births = []\n",
    "\n",
    "# Loop through the generations\n",
    "for gen_name, (start_year, end_year) in generations.items():\n",
    "    # Filter the DataFrame for the current generation\n",
    "    gen_df = df[(df['date'].dt.year >= start_year) & (df['date'].dt.year <= end_year)]\n",
    "    \n",
    "    if not gen_df.empty:\n",
    "        gen_names.append(gen_name)\n",
    "        avg_births.append(gen_df['births'].mean())\n",
    "    else:\n",
    "        print(f\"No data found for {gen_name}\")\n",
    "\n",
    "# Create the result DataFrame\n",
    "result_df = pd.DataFrame({\n",
    "    'GENERATION': gen_names,\n",
    "    'AVG_BIRTH': avg_births\n",
    "})\n",
    "\n",
    "# Round the AVG_BIRTH column to 2 decimal places\n",
    "result_df['AVG_BIRTH'] = result_df['AVG_BIRTH'].round(2)\n",
    "\n",
    "# Display the result\n",
    "print(result_df)"
   ]
  },
  {
   "cell_type": "code",
   "execution_count": 25,
   "metadata": {},
   "outputs": [
    {
     "name": "stdout",
     "output_type": "stream",
     "text": [
      "File saved as: Hariz_avg_birth_by_generation.csv\n"
     ]
    }
   ],
   "source": [
    "# Task 3b: Save the aggregated dataframe in task 3a above into CSV file without index (index=False) in the same folder as this file\n",
    "# The filename shall be your nickname + _avg_birth_by_generation.csv\n",
    "# Example: azhar_avg_birth_by_generation.csv\n",
    "# No space is allowed. But make sure your nickname is recognizable for evaluation.\n",
    "\n",
    "# Replace 'your_nickname' with your actual nickname\n",
    "nickname = \"Hariz\"\n",
    "\n",
    "# Create the filename\n",
    "filename = f\"{nickname}_avg_birth_by_generation.csv\"\n",
    "\n",
    "# Save the DataFrame to CSV without the index\n",
    "result_df.to_csv(filename, index=False)\n",
    "\n",
    "print(f\"File saved as: {filename}\")"
   ]
  }
 ],
 "metadata": {
  "kernelspec": {
   "display_name": "python311env",
   "language": "python",
   "name": "python3"
  },
  "language_info": {
   "codemirror_mode": {
    "name": "ipython",
    "version": 3
   },
   "file_extension": ".py",
   "mimetype": "text/x-python",
   "name": "python",
   "nbconvert_exporter": "python",
   "pygments_lexer": "ipython3",
   "version": "3.12.1"
  }
 },
 "nbformat": 4,
 "nbformat_minor": 2
}
