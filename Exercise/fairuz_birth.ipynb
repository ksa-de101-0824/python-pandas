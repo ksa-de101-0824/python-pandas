{
 "cells": [
  {
   "cell_type": "code",
   "execution_count": 1,
   "metadata": {},
   "outputs": [],
   "source": [
    "import pandas as pd"
   ]
  },
  {
   "cell_type": "code",
   "execution_count": 2,
   "metadata": {},
   "outputs": [
    {
     "name": "stdout",
     "output_type": "stream",
     "text": [
      "         date     state  births\n",
      "0  1920-01-01  Malaysia      96\n",
      "1  1920-01-02  Malaysia     115\n",
      "2  1920-01-03  Malaysia     111\n",
      "3  1920-01-04  Malaysia     101\n",
      "4  1920-01-05  Malaysia      95\n"
     ]
    }
   ],
   "source": [
    "# The data source is from Malaysia DOSM (https://data.gov.my/data-catalogue/births)\n",
    "URL_DATA = 'https://storage.data.gov.my/demography/births.parquet'\n",
    "\n",
    "# Extract data from source\n",
    "df = pd.read_parquet(URL_DATA)\n",
    "\n",
    "print(df.head())"
   ]
  },
  {
   "cell_type": "code",
   "execution_count": 3,
   "metadata": {},
   "outputs": [
    {
     "name": "stdout",
     "output_type": "stream",
     "text": [
      "<class 'pandas.core.frame.DataFrame'>\n",
      "RangeIndex: 37833 entries, 0 to 37832\n",
      "Data columns (total 3 columns):\n",
      " #   Column  Non-Null Count  Dtype \n",
      "---  ------  --------------  ----- \n",
      " 0   date    37833 non-null  object\n",
      " 1   state   37833 non-null  object\n",
      " 2   births  37833 non-null  int64 \n",
      "dtypes: int64(1), object(2)\n",
      "memory usage: 886.8+ KB\n"
     ]
    }
   ],
   "source": [
    "df.info()"
   ]
  },
  {
   "cell_type": "code",
   "execution_count": 4,
   "metadata": {},
   "outputs": [
    {
     "name": "stdout",
     "output_type": "stream",
     "text": [
      "<class 'pandas.core.frame.DataFrame'>\n",
      "RangeIndex: 37833 entries, 0 to 37832\n",
      "Data columns (total 3 columns):\n",
      " #   Column  Non-Null Count  Dtype         \n",
      "---  ------  --------------  -----         \n",
      " 0   date    37833 non-null  datetime64[ns]\n",
      " 1   state   37833 non-null  object        \n",
      " 2   births  37833 non-null  int64         \n",
      "dtypes: datetime64[ns](1), int64(1), object(1)\n",
      "memory usage: 886.8+ KB\n"
     ]
    }
   ],
   "source": [
    "# Task 1: Based on the lesson learned previously, convert the \"DATE\" column data type into datetime format\n",
    "df[\"date\"] = pd.to_datetime(df[\"date\"])\n",
    "df.info()"
   ]
  },
  {
   "cell_type": "code",
   "execution_count": 5,
   "metadata": {},
   "outputs": [
    {
     "data": {
      "text/html": [
       "<div>\n",
       "<style scoped>\n",
       "    .dataframe tbody tr th:only-of-type {\n",
       "        vertical-align: middle;\n",
       "    }\n",
       "\n",
       "    .dataframe tbody tr th {\n",
       "        vertical-align: top;\n",
       "    }\n",
       "\n",
       "    .dataframe thead th {\n",
       "        text-align: right;\n",
       "    }\n",
       "</style>\n",
       "<table border=\"1\" class=\"dataframe\">\n",
       "  <thead>\n",
       "    <tr style=\"text-align: right;\">\n",
       "      <th></th>\n",
       "      <th>MONTH_NAME</th>\n",
       "      <th>AVG_BIRTH</th>\n",
       "    </tr>\n",
       "  </thead>\n",
       "  <tbody>\n",
       "    <tr>\n",
       "      <th>0</th>\n",
       "      <td>April 1920</td>\n",
       "      <td>95.133333</td>\n",
       "    </tr>\n",
       "    <tr>\n",
       "      <th>1</th>\n",
       "      <td>April 1921</td>\n",
       "      <td>106.900000</td>\n",
       "    </tr>\n",
       "    <tr>\n",
       "      <th>2</th>\n",
       "      <td>April 1922</td>\n",
       "      <td>99.033333</td>\n",
       "    </tr>\n",
       "    <tr>\n",
       "      <th>3</th>\n",
       "      <td>April 1923</td>\n",
       "      <td>148.733333</td>\n",
       "    </tr>\n",
       "    <tr>\n",
       "      <th>4</th>\n",
       "      <td>April 1924</td>\n",
       "      <td>183.533333</td>\n",
       "    </tr>\n",
       "  </tbody>\n",
       "</table>\n",
       "</div>"
      ],
      "text/plain": [
       "   MONTH_NAME   AVG_BIRTH\n",
       "0  April 1920   95.133333\n",
       "1  April 1921  106.900000\n",
       "2  April 1922   99.033333\n",
       "3  April 1923  148.733333\n",
       "4  April 1924  183.533333"
      ]
     },
     "execution_count": 5,
     "metadata": {},
     "output_type": "execute_result"
    }
   ],
   "source": [
    "# Task 2a: Extract the Month name (e.g. January/February/March etc) into another column called \"MONTH_NAME\"\n",
    "# Then get average of births aggregate/group by MONTH_NAME\n",
    "# The expected dataframe is something like this:\n",
    "\n",
    "# |----------------|-----------|\n",
    "# |MONTH_NAME      | AVG_BIRTH |\n",
    "# |----------------|-----------|\n",
    "# |JANUARY XXX     |           |\n",
    "# |FEBRUARY XXX    |           |\n",
    "# |MARCH XXX       |           |\n",
    "#   .....           \n",
    "\n",
    "# insert MONTH_NAME column\n",
    "df[\"MONTH_NAME\"] = df[\"date\"].dt.strftime(\"%B %Y\")\n",
    "\n",
    "# group by MONTH_NAME and calculate average birth as AVG_BIRTH\n",
    "df_monthly_avg_birth = df.groupby(\"MONTH_NAME\").agg(AVG_BIRTH = ('births', 'mean')).reset_index()\n",
    "\n",
    "df_monthly_avg_birth.head()"
   ]
  },
  {
   "cell_type": "code",
   "execution_count": 6,
   "metadata": {},
   "outputs": [],
   "source": [
    "# Task 2b: Save the aggregated dataframe in task 2a above into CSV file without index (index=False) in the same folder as this file\n",
    "# The filename shall be your nickname + _avg_birth_by_month.csv\n",
    "# Example: azhar_avg_birth_by_month.csv\n",
    "# No space is allowed. But make sure your nickname is recognizable for evaluation.\n",
    "\n",
    "df_monthly_avg_birth.to_csv(\"fairuz_avg_birth_by_month.csv\", index=False)"
   ]
  },
  {
   "cell_type": "code",
   "execution_count": 7,
   "metadata": {},
   "outputs": [
    {
     "data": {
      "text/html": [
       "<div>\n",
       "<style scoped>\n",
       "    .dataframe tbody tr th:only-of-type {\n",
       "        vertical-align: middle;\n",
       "    }\n",
       "\n",
       "    .dataframe tbody tr th {\n",
       "        vertical-align: top;\n",
       "    }\n",
       "\n",
       "    .dataframe thead th {\n",
       "        text-align: right;\n",
       "    }\n",
       "</style>\n",
       "<table border=\"1\" class=\"dataframe\">\n",
       "  <thead>\n",
       "    <tr style=\"text-align: right;\">\n",
       "      <th></th>\n",
       "      <th>date</th>\n",
       "      <th>state</th>\n",
       "      <th>births</th>\n",
       "      <th>MONTH_NAME</th>\n",
       "      <th>year</th>\n",
       "    </tr>\n",
       "  </thead>\n",
       "  <tbody>\n",
       "    <tr>\n",
       "      <th>0</th>\n",
       "      <td>1920-01-01</td>\n",
       "      <td>Malaysia</td>\n",
       "      <td>96</td>\n",
       "      <td>January 1920</td>\n",
       "      <td>1920</td>\n",
       "    </tr>\n",
       "    <tr>\n",
       "      <th>1</th>\n",
       "      <td>1920-01-02</td>\n",
       "      <td>Malaysia</td>\n",
       "      <td>115</td>\n",
       "      <td>January 1920</td>\n",
       "      <td>1920</td>\n",
       "    </tr>\n",
       "    <tr>\n",
       "      <th>2</th>\n",
       "      <td>1920-01-03</td>\n",
       "      <td>Malaysia</td>\n",
       "      <td>111</td>\n",
       "      <td>January 1920</td>\n",
       "      <td>1920</td>\n",
       "    </tr>\n",
       "    <tr>\n",
       "      <th>3</th>\n",
       "      <td>1920-01-04</td>\n",
       "      <td>Malaysia</td>\n",
       "      <td>101</td>\n",
       "      <td>January 1920</td>\n",
       "      <td>1920</td>\n",
       "    </tr>\n",
       "    <tr>\n",
       "      <th>4</th>\n",
       "      <td>1920-01-05</td>\n",
       "      <td>Malaysia</td>\n",
       "      <td>95</td>\n",
       "      <td>January 1920</td>\n",
       "      <td>1920</td>\n",
       "    </tr>\n",
       "  </tbody>\n",
       "</table>\n",
       "</div>"
      ],
      "text/plain": [
       "        date     state  births    MONTH_NAME  year\n",
       "0 1920-01-01  Malaysia      96  January 1920  1920\n",
       "1 1920-01-02  Malaysia     115  January 1920  1920\n",
       "2 1920-01-03  Malaysia     111  January 1920  1920\n",
       "3 1920-01-04  Malaysia     101  January 1920  1920\n",
       "4 1920-01-05  Malaysia      95  January 1920  1920"
      ]
     },
     "execution_count": 7,
     "metadata": {},
     "output_type": "execute_result"
    }
   ],
   "source": [
    "# Task 3a: Create a dataframe to calculate average birth by the following generation group:\n",
    "# --> Silent Generation - from 1928 to 1945 included\n",
    "# --> Baby Boomers - from 1946 to 1964 included\n",
    "# --> Gen X - from 1965 to 1980 included\n",
    "# --> Gen Y - from 1981 to 1996 included\n",
    "# The expected dataframe is something like this:\n",
    "\n",
    "# |----------------|-----------|\n",
    "# |GENERATION      | AVG_BIRTH |\n",
    "# |----------------|-----------|\n",
    "# |Gen X           |           |\n",
    "# |Gen Y           |           |\n",
    "# ......\n",
    "\n",
    "# Hint: Use for-loop and if/else\n",
    "\n",
    "# insert year column\n",
    "df[\"year\"] = df[\"date\"].dt.year\n",
    "df.head()\n"
   ]
  },
  {
   "cell_type": "code",
   "execution_count": 8,
   "metadata": {},
   "outputs": [
    {
     "data": {
      "text/html": [
       "<div>\n",
       "<style scoped>\n",
       "    .dataframe tbody tr th:only-of-type {\n",
       "        vertical-align: middle;\n",
       "    }\n",
       "\n",
       "    .dataframe tbody tr th {\n",
       "        vertical-align: top;\n",
       "    }\n",
       "\n",
       "    .dataframe thead th {\n",
       "        text-align: right;\n",
       "    }\n",
       "</style>\n",
       "<table border=\"1\" class=\"dataframe\">\n",
       "  <thead>\n",
       "    <tr style=\"text-align: right;\">\n",
       "      <th></th>\n",
       "      <th>date</th>\n",
       "      <th>state</th>\n",
       "      <th>births</th>\n",
       "      <th>MONTH_NAME</th>\n",
       "      <th>year</th>\n",
       "      <th>generation</th>\n",
       "    </tr>\n",
       "  </thead>\n",
       "  <tbody>\n",
       "    <tr>\n",
       "      <th>0</th>\n",
       "      <td>1920-01-01</td>\n",
       "      <td>Malaysia</td>\n",
       "      <td>96</td>\n",
       "      <td>January 1920</td>\n",
       "      <td>1920</td>\n",
       "      <td>Silent Generation</td>\n",
       "    </tr>\n",
       "    <tr>\n",
       "      <th>1</th>\n",
       "      <td>1920-01-02</td>\n",
       "      <td>Malaysia</td>\n",
       "      <td>115</td>\n",
       "      <td>January 1920</td>\n",
       "      <td>1920</td>\n",
       "      <td>Silent Generation</td>\n",
       "    </tr>\n",
       "    <tr>\n",
       "      <th>2</th>\n",
       "      <td>1920-01-03</td>\n",
       "      <td>Malaysia</td>\n",
       "      <td>111</td>\n",
       "      <td>January 1920</td>\n",
       "      <td>1920</td>\n",
       "      <td>Silent Generation</td>\n",
       "    </tr>\n",
       "    <tr>\n",
       "      <th>3</th>\n",
       "      <td>1920-01-04</td>\n",
       "      <td>Malaysia</td>\n",
       "      <td>101</td>\n",
       "      <td>January 1920</td>\n",
       "      <td>1920</td>\n",
       "      <td>Silent Generation</td>\n",
       "    </tr>\n",
       "    <tr>\n",
       "      <th>4</th>\n",
       "      <td>1920-01-05</td>\n",
       "      <td>Malaysia</td>\n",
       "      <td>95</td>\n",
       "      <td>January 1920</td>\n",
       "      <td>1920</td>\n",
       "      <td>Silent Generation</td>\n",
       "    </tr>\n",
       "  </tbody>\n",
       "</table>\n",
       "</div>"
      ],
      "text/plain": [
       "        date     state  births    MONTH_NAME  year         generation\n",
       "0 1920-01-01  Malaysia      96  January 1920  1920  Silent Generation\n",
       "1 1920-01-02  Malaysia     115  January 1920  1920  Silent Generation\n",
       "2 1920-01-03  Malaysia     111  January 1920  1920  Silent Generation\n",
       "3 1920-01-04  Malaysia     101  January 1920  1920  Silent Generation\n",
       "4 1920-01-05  Malaysia      95  January 1920  1920  Silent Generation"
      ]
     },
     "execution_count": 8,
     "metadata": {},
     "output_type": "execute_result"
    }
   ],
   "source": [
    "def assign_generation(year):\n",
    "    if year <= 1945:\n",
    "        result = \"Silent Generation\"\n",
    "    elif year >= 1946 and year <= 1964:\n",
    "        result = \"Baby Boomers\"\n",
    "    elif year >= 1965 and year <= 1980:\n",
    "        result = \"Gen X\"\n",
    "    elif year >= 1981 and year <= 1996:\n",
    "        result = \"Gen Y\"\n",
    "    else:\n",
    "        result = \"Others\"\n",
    "    return result\n",
    "\n",
    "df[\"generation\"] = df[\"year\"].apply(assign_generation)\n",
    "\n",
    "df.head()"
   ]
  },
  {
   "cell_type": "code",
   "execution_count": 9,
   "metadata": {},
   "outputs": [
    {
     "data": {
      "text/html": [
       "<div>\n",
       "<style scoped>\n",
       "    .dataframe tbody tr th:only-of-type {\n",
       "        vertical-align: middle;\n",
       "    }\n",
       "\n",
       "    .dataframe tbody tr th {\n",
       "        vertical-align: top;\n",
       "    }\n",
       "\n",
       "    .dataframe thead th {\n",
       "        text-align: right;\n",
       "    }\n",
       "</style>\n",
       "<table border=\"1\" class=\"dataframe\">\n",
       "  <thead>\n",
       "    <tr style=\"text-align: right;\">\n",
       "      <th></th>\n",
       "      <th>generation</th>\n",
       "      <th>births</th>\n",
       "    </tr>\n",
       "  </thead>\n",
       "  <tbody>\n",
       "    <tr>\n",
       "      <th>0</th>\n",
       "      <td>Baby Boomers</td>\n",
       "      <td>764.404899</td>\n",
       "    </tr>\n",
       "    <tr>\n",
       "      <th>1</th>\n",
       "      <td>Gen X</td>\n",
       "      <td>1057.826318</td>\n",
       "    </tr>\n",
       "    <tr>\n",
       "      <th>2</th>\n",
       "      <td>Gen Y</td>\n",
       "      <td>1417.433778</td>\n",
       "    </tr>\n",
       "    <tr>\n",
       "      <th>3</th>\n",
       "      <td>Others</td>\n",
       "      <td>1407.644005</td>\n",
       "    </tr>\n",
       "    <tr>\n",
       "      <th>4</th>\n",
       "      <td>Silent Generation</td>\n",
       "      <td>265.749710</td>\n",
       "    </tr>\n",
       "  </tbody>\n",
       "</table>\n",
       "</div>"
      ],
      "text/plain": [
       "          generation       births\n",
       "0       Baby Boomers   764.404899\n",
       "1              Gen X  1057.826318\n",
       "2              Gen Y  1417.433778\n",
       "3             Others  1407.644005\n",
       "4  Silent Generation   265.749710"
      ]
     },
     "execution_count": 9,
     "metadata": {},
     "output_type": "execute_result"
    }
   ],
   "source": [
    "df_avg_birth_gen = df.groupby(\"generation\")[[\"births\"]].mean(\"births\").reset_index()\n",
    "df_avg_birth_gen.head()"
   ]
  },
  {
   "cell_type": "code",
   "execution_count": 10,
   "metadata": {},
   "outputs": [],
   "source": [
    "# Task 3b: Save the aggregated dataframe in task 3a above into CSV file without index (index=False) in the same folder as this file\n",
    "# The filename shall be your nickname + _avg_birth_by_generation.csv\n",
    "# Example: azhar_avg_birth_by_generation.csv\n",
    "# No space is allowed. But make sure your nickname is recognizable for evaluation.\n",
    "\n",
    "df_avg_birth_gen.to_csv(\"fairuz_avg_birth_by_generation.csv\", index=False)"
   ]
  }
 ],
 "metadata": {
  "kernelspec": {
   "display_name": "python311env",
   "language": "python",
   "name": "python3"
  },
  "language_info": {
   "codemirror_mode": {
    "name": "ipython",
    "version": 3
   },
   "file_extension": ".py",
   "mimetype": "text/x-python",
   "name": "python",
   "nbconvert_exporter": "python",
   "pygments_lexer": "ipython3",
   "version": "3.12.1"
  }
 },
 "nbformat": 4,
 "nbformat_minor": 2
}
