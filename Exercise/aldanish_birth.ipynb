{
 "cells": [
  {
   "cell_type": "code",
   "execution_count": 2,
   "metadata": {},
   "outputs": [],
   "source": [
    "import pandas as pd"
   ]
  },
  {
   "cell_type": "code",
   "execution_count": 4,
   "metadata": {},
   "outputs": [
    {
     "name": "stdout",
     "output_type": "stream",
     "text": [
      "                   date     state  births\n",
      "0  -1577923200000000000  Malaysia      96\n",
      "1  -1577836800000000000  Malaysia     115\n",
      "2  -1577750400000000000  Malaysia     111\n",
      "3  -1577664000000000000  Malaysia     101\n",
      "4  -1577577600000000000  Malaysia      95\n"
     ]
    }
   ],
   "source": [
    "# The data source is from Malaysia DOSM (https://data.gov.my/data-catalogue/births)\n",
    "URL_DATA = 'https://storage.data.gov.my/demography/births.parquet'\n",
    "\n",
    "# Extract data from source\n",
    "df = pd.read_parquet(URL_DATA)\n",
    "\n",
    "print(df.head())"
   ]
  },
  {
   "cell_type": "code",
   "execution_count": 5,
   "metadata": {},
   "outputs": [
    {
     "name": "stdout",
     "output_type": "stream",
     "text": [
      "date: [-1577923200000000000 -1577836800000000000 -1577750400000000000 ...\n",
      " 1690588800000000000 1690675200000000000 1690761600000000000]\n",
      "\n",
      "births: [  96  115  111 ... 1791 1754 1801]\n",
      "\n"
     ]
    }
   ],
   "source": [
    "# Combine mismatch unique values for different columns and merge them into a single data frame\n",
    "subset_columns = ['date', 'births']\n",
    "\n",
    "for col in subset_columns:\n",
    "    print(f\"{col}: {df[col].unique()}\")\n",
    "    print()"
   ]
  },
  {
   "cell_type": "code",
   "execution_count": 6,
   "metadata": {},
   "outputs": [
    {
     "name": "stdout",
     "output_type": "stream",
     "text": [
      "<class 'pandas.core.frame.DataFrame'>\n",
      "RangeIndex: 37833 entries, 0 to 37832\n",
      "Data columns (total 3 columns):\n",
      " #   Column  Non-Null Count  Dtype \n",
      "---  ------  --------------  ----- \n",
      " 0   date    37833 non-null  object\n",
      " 1   state   37833 non-null  object\n",
      " 2   births  37833 non-null  int64 \n",
      "dtypes: int64(1), object(2)\n",
      "memory usage: 886.8+ KB\n"
     ]
    }
   ],
   "source": [
    "df.info()"
   ]
  },
  {
   "cell_type": "code",
   "execution_count": 7,
   "metadata": {},
   "outputs": [],
   "source": [
    "# Task 1: Based on the lesson learned previously, convert the \"DATE\" column data type into datetime format\n",
    "df['date'] = pd.to_datetime(df['date'])"
   ]
  },
  {
   "cell_type": "code",
   "execution_count": 8,
   "metadata": {},
   "outputs": [
    {
     "data": {
      "text/plain": [
       "date      datetime64[ns]\n",
       "state             object\n",
       "births             int64\n",
       "dtype: object"
      ]
     },
     "execution_count": 8,
     "metadata": {},
     "output_type": "execute_result"
    }
   ],
   "source": [
    "df.dtypes"
   ]
  },
  {
   "cell_type": "code",
   "execution_count": 11,
   "metadata": {},
   "outputs": [
    {
     "data": {
      "text/plain": [
       "Ellipsis"
      ]
     },
     "execution_count": 11,
     "metadata": {},
     "output_type": "execute_result"
    }
   ],
   "source": [
    "# Task 2a: Extract the Month name (e.g. January/February/March etc) into another column called \"MONTH_NAME\"\n",
    "# Then get average of births aggregate/group by MONTH_NAME\n",
    "# The expected dataframe is something like this:\n",
    "\n",
    "# |----------------|-----------|\n",
    "# |MONTH_NAME      | AVG_BIRTH |\n",
    "# |----------------|-----------|\n",
    "# |JANUARY XXX     |           |\n",
    "# |FEBRUARY XXX    |           |\n",
    "# |MARCH XXX       |           |\n",
    "#   .....           \n",
    "\n",
    "...\n"
   ]
  },
  {
   "cell_type": "code",
   "execution_count": 25,
   "metadata": {},
   "outputs": [],
   "source": [
    "#2a\n",
    "df['MONTH_NAME'] = df.date.dt.month_name()\n",
    "df['MONTH_NUMBER'] = df.date.dt.month\n"
   ]
  },
  {
   "cell_type": "code",
   "execution_count": 26,
   "metadata": {},
   "outputs": [
    {
     "data": {
      "text/html": [
       "<div>\n",
       "<style scoped>\n",
       "    .dataframe tbody tr th:only-of-type {\n",
       "        vertical-align: middle;\n",
       "    }\n",
       "\n",
       "    .dataframe tbody tr th {\n",
       "        vertical-align: top;\n",
       "    }\n",
       "\n",
       "    .dataframe thead th {\n",
       "        text-align: right;\n",
       "    }\n",
       "</style>\n",
       "<table border=\"1\" class=\"dataframe\">\n",
       "  <thead>\n",
       "    <tr style=\"text-align: right;\">\n",
       "      <th></th>\n",
       "      <th>date</th>\n",
       "      <th>state</th>\n",
       "      <th>births</th>\n",
       "      <th>MONTH_NAME</th>\n",
       "      <th>month_number</th>\n",
       "      <th>MONTH_NUMBER</th>\n",
       "    </tr>\n",
       "  </thead>\n",
       "  <tbody>\n",
       "    <tr>\n",
       "      <th>4906</th>\n",
       "      <td>1933-06-07</td>\n",
       "      <td>Malaysia</td>\n",
       "      <td>335</td>\n",
       "      <td>June</td>\n",
       "      <td>6</td>\n",
       "      <td>6</td>\n",
       "    </tr>\n",
       "    <tr>\n",
       "      <th>2860</th>\n",
       "      <td>1927-10-31</td>\n",
       "      <td>Malaysia</td>\n",
       "      <td>257</td>\n",
       "      <td>October</td>\n",
       "      <td>10</td>\n",
       "      <td>10</td>\n",
       "    </tr>\n",
       "    <tr>\n",
       "      <th>27373</th>\n",
       "      <td>1994-12-11</td>\n",
       "      <td>Malaysia</td>\n",
       "      <td>1519</td>\n",
       "      <td>December</td>\n",
       "      <td>12</td>\n",
       "      <td>12</td>\n",
       "    </tr>\n",
       "    <tr>\n",
       "      <th>12307</th>\n",
       "      <td>1953-09-11</td>\n",
       "      <td>Malaysia</td>\n",
       "      <td>672</td>\n",
       "      <td>September</td>\n",
       "      <td>9</td>\n",
       "      <td>9</td>\n",
       "    </tr>\n",
       "    <tr>\n",
       "      <th>27828</th>\n",
       "      <td>1996-03-10</td>\n",
       "      <td>Malaysia</td>\n",
       "      <td>1370</td>\n",
       "      <td>March</td>\n",
       "      <td>3</td>\n",
       "      <td>3</td>\n",
       "    </tr>\n",
       "  </tbody>\n",
       "</table>\n",
       "</div>"
      ],
      "text/plain": [
       "            date     state  births MONTH_NAME  month_number  MONTH_NUMBER\n",
       "4906  1933-06-07  Malaysia     335       June             6             6\n",
       "2860  1927-10-31  Malaysia     257    October            10            10\n",
       "27373 1994-12-11  Malaysia    1519   December            12            12\n",
       "12307 1953-09-11  Malaysia     672  September             9             9\n",
       "27828 1996-03-10  Malaysia    1370      March             3             3"
      ]
     },
     "execution_count": 26,
     "metadata": {},
     "output_type": "execute_result"
    }
   ],
   "source": [
    "df.sample(5)"
   ]
  },
  {
   "cell_type": "code",
   "execution_count": 27,
   "metadata": {},
   "outputs": [
    {
     "data": {
      "text/html": [
       "<div>\n",
       "<style scoped>\n",
       "    .dataframe tbody tr th:only-of-type {\n",
       "        vertical-align: middle;\n",
       "    }\n",
       "\n",
       "    .dataframe tbody tr th {\n",
       "        vertical-align: top;\n",
       "    }\n",
       "\n",
       "    .dataframe thead th {\n",
       "        text-align: right;\n",
       "    }\n",
       "</style>\n",
       "<table border=\"1\" class=\"dataframe\">\n",
       "  <thead>\n",
       "    <tr style=\"text-align: right;\">\n",
       "      <th></th>\n",
       "      <th>MONTH_NAME</th>\n",
       "      <th>MONTH_NUMBER</th>\n",
       "      <th>AVG_BIRTH</th>\n",
       "    </tr>\n",
       "  </thead>\n",
       "  <tbody>\n",
       "    <tr>\n",
       "      <th>0</th>\n",
       "      <td>April</td>\n",
       "      <td>4</td>\n",
       "      <td>945.387500</td>\n",
       "    </tr>\n",
       "    <tr>\n",
       "      <th>1</th>\n",
       "      <td>August</td>\n",
       "      <td>8</td>\n",
       "      <td>951.493893</td>\n",
       "    </tr>\n",
       "    <tr>\n",
       "      <th>2</th>\n",
       "      <td>December</td>\n",
       "      <td>12</td>\n",
       "      <td>951.100846</td>\n",
       "    </tr>\n",
       "    <tr>\n",
       "      <th>3</th>\n",
       "      <td>February</td>\n",
       "      <td>2</td>\n",
       "      <td>904.976515</td>\n",
       "    </tr>\n",
       "    <tr>\n",
       "      <th>4</th>\n",
       "      <td>January</td>\n",
       "      <td>1</td>\n",
       "      <td>928.116935</td>\n",
       "    </tr>\n",
       "    <tr>\n",
       "      <th>5</th>\n",
       "      <td>July</td>\n",
       "      <td>7</td>\n",
       "      <td>946.085608</td>\n",
       "    </tr>\n",
       "    <tr>\n",
       "      <th>6</th>\n",
       "      <td>June</td>\n",
       "      <td>6</td>\n",
       "      <td>960.348718</td>\n",
       "    </tr>\n",
       "    <tr>\n",
       "      <th>7</th>\n",
       "      <td>March</td>\n",
       "      <td>3</td>\n",
       "      <td>926.428970</td>\n",
       "    </tr>\n",
       "    <tr>\n",
       "      <th>8</th>\n",
       "      <td>May</td>\n",
       "      <td>5</td>\n",
       "      <td>959.320099</td>\n",
       "    </tr>\n",
       "    <tr>\n",
       "      <th>9</th>\n",
       "      <td>November</td>\n",
       "      <td>11</td>\n",
       "      <td>963.218123</td>\n",
       "    </tr>\n",
       "    <tr>\n",
       "      <th>10</th>\n",
       "      <td>October</td>\n",
       "      <td>10</td>\n",
       "      <td>985.878171</td>\n",
       "    </tr>\n",
       "    <tr>\n",
       "      <th>11</th>\n",
       "      <td>September</td>\n",
       "      <td>9</td>\n",
       "      <td>981.742071</td>\n",
       "    </tr>\n",
       "  </tbody>\n",
       "</table>\n",
       "</div>"
      ],
      "text/plain": [
       "   MONTH_NAME  MONTH_NUMBER   AVG_BIRTH\n",
       "0       April             4  945.387500\n",
       "1      August             8  951.493893\n",
       "2    December            12  951.100846\n",
       "3    February             2  904.976515\n",
       "4     January             1  928.116935\n",
       "5        July             7  946.085608\n",
       "6        June             6  960.348718\n",
       "7       March             3  926.428970\n",
       "8         May             5  959.320099\n",
       "9    November            11  963.218123\n",
       "10    October            10  985.878171\n",
       "11  September             9  981.742071"
      ]
     },
     "execution_count": 27,
     "metadata": {},
     "output_type": "execute_result"
    }
   ],
   "source": [
    "df1 = df\\\n",
    "    .groupby(['MONTH_NAME','MONTH_NUMBER'])\\\n",
    "    .agg(\n",
    "        AVG_BIRTH=('births', 'mean')\n",
    "    )\\\n",
    "    .reset_index()\\\n",
    "    \n",
    "df1"
   ]
  },
  {
   "cell_type": "code",
   "execution_count": null,
   "metadata": {},
   "outputs": [],
   "source": [
    "# Task 2b: Save the aggregated dataframe in task 2a above into CSV file without index (index=False) in the same folder as this file\n",
    "# The filename shall be your nickname + _avg_birth_by_month.csv\n",
    "# Example: azhar_avg_birth_by_month.csv\n",
    "# No space is allowed. But make sure your nickname is recognizable for evaluation.\n",
    "\n",
    "..."
   ]
  },
  {
   "cell_type": "code",
   "execution_count": 28,
   "metadata": {},
   "outputs": [],
   "source": [
    "df1.to_csv('dr_agg.csv', index=False)"
   ]
  },
  {
   "cell_type": "code",
   "execution_count": 16,
   "metadata": {},
   "outputs": [
    {
     "data": {
      "text/plain": [
       "Ellipsis"
      ]
     },
     "execution_count": 16,
     "metadata": {},
     "output_type": "execute_result"
    }
   ],
   "source": [
    "# Task 3a: Create a dataframe to calculate average birth by the following generation group:\n",
    "# --> Silent Generation - from 1928 to 1945 included\n",
    "# --> Baby Boomers - from 1946 to 1964 included\n",
    "# --> Gen X - from 1965 to 1980 included\n",
    "# --> Gen Y - from 1981 to 1996 included\n",
    "# The expected dataframe is something like this:\n",
    "\n",
    "# |----------------|-----------|\n",
    "# |GENERATION      | AVG_BIRTH |\n",
    "# |----------------|-----------|\n",
    "# |Gen X           |           |\n",
    "# |Gen Y           |           |\n",
    "# ......\n",
    "\n",
    "# Hint: Use for-loop and if/else\n",
    "\n",
    "..."
   ]
  },
  {
   "cell_type": "code",
   "execution_count": 29,
   "metadata": {},
   "outputs": [],
   "source": [
    "df['year'] = df.date.dt.year"
   ]
  },
  {
   "cell_type": "code",
   "execution_count": 14,
   "metadata": {},
   "outputs": [],
   "source": [
    "# Task 3b: Save the aggregated dataframe in task 3a above into CSV file without index (index=False) in the same folder as this file\n",
    "# The filename shall be your nickname + _avg_birth_by_generation.csv\n",
    "# Example: azhar_avg_birth_by_generation.csv\n",
    "# No space is allowed. But make sure your nickname is recognizable for evaluation.\n",
    "\n",
    "..."
   ]
  },
  {
   "cell_type": "code",
   "execution_count": 30,
   "metadata": {},
   "outputs": [
    {
     "data": {
      "text/html": [
       "<div>\n",
       "<style scoped>\n",
       "    .dataframe tbody tr th:only-of-type {\n",
       "        vertical-align: middle;\n",
       "    }\n",
       "\n",
       "    .dataframe tbody tr th {\n",
       "        vertical-align: top;\n",
       "    }\n",
       "\n",
       "    .dataframe thead th {\n",
       "        text-align: right;\n",
       "    }\n",
       "</style>\n",
       "<table border=\"1\" class=\"dataframe\">\n",
       "  <thead>\n",
       "    <tr style=\"text-align: right;\">\n",
       "      <th></th>\n",
       "      <th>date</th>\n",
       "      <th>state</th>\n",
       "      <th>births</th>\n",
       "      <th>MONTH_NAME</th>\n",
       "      <th>month_number</th>\n",
       "      <th>MONTH_NUMBER</th>\n",
       "      <th>year</th>\n",
       "    </tr>\n",
       "  </thead>\n",
       "  <tbody>\n",
       "    <tr>\n",
       "      <th>0</th>\n",
       "      <td>1920-01-01</td>\n",
       "      <td>Malaysia</td>\n",
       "      <td>96</td>\n",
       "      <td>January</td>\n",
       "      <td>1</td>\n",
       "      <td>1</td>\n",
       "      <td>1920</td>\n",
       "    </tr>\n",
       "    <tr>\n",
       "      <th>1</th>\n",
       "      <td>1920-01-02</td>\n",
       "      <td>Malaysia</td>\n",
       "      <td>115</td>\n",
       "      <td>January</td>\n",
       "      <td>1</td>\n",
       "      <td>1</td>\n",
       "      <td>1920</td>\n",
       "    </tr>\n",
       "    <tr>\n",
       "      <th>2</th>\n",
       "      <td>1920-01-03</td>\n",
       "      <td>Malaysia</td>\n",
       "      <td>111</td>\n",
       "      <td>January</td>\n",
       "      <td>1</td>\n",
       "      <td>1</td>\n",
       "      <td>1920</td>\n",
       "    </tr>\n",
       "    <tr>\n",
       "      <th>3</th>\n",
       "      <td>1920-01-04</td>\n",
       "      <td>Malaysia</td>\n",
       "      <td>101</td>\n",
       "      <td>January</td>\n",
       "      <td>1</td>\n",
       "      <td>1</td>\n",
       "      <td>1920</td>\n",
       "    </tr>\n",
       "    <tr>\n",
       "      <th>4</th>\n",
       "      <td>1920-01-05</td>\n",
       "      <td>Malaysia</td>\n",
       "      <td>95</td>\n",
       "      <td>January</td>\n",
       "      <td>1</td>\n",
       "      <td>1</td>\n",
       "      <td>1920</td>\n",
       "    </tr>\n",
       "  </tbody>\n",
       "</table>\n",
       "</div>"
      ],
      "text/plain": [
       "        date     state  births MONTH_NAME  month_number  MONTH_NUMBER  year\n",
       "0 1920-01-01  Malaysia      96    January             1             1  1920\n",
       "1 1920-01-02  Malaysia     115    January             1             1  1920\n",
       "2 1920-01-03  Malaysia     111    January             1             1  1920\n",
       "3 1920-01-04  Malaysia     101    January             1             1  1920\n",
       "4 1920-01-05  Malaysia      95    January             1             1  1920"
      ]
     },
     "execution_count": 30,
     "metadata": {},
     "output_type": "execute_result"
    }
   ],
   "source": [
    "df.head()"
   ]
  },
  {
   "cell_type": "code",
   "execution_count": 31,
   "metadata": {},
   "outputs": [
    {
     "data": {
      "text/html": [
       "<div>\n",
       "<style scoped>\n",
       "    .dataframe tbody tr th:only-of-type {\n",
       "        vertical-align: middle;\n",
       "    }\n",
       "\n",
       "    .dataframe tbody tr th {\n",
       "        vertical-align: top;\n",
       "    }\n",
       "\n",
       "    .dataframe thead th {\n",
       "        text-align: right;\n",
       "    }\n",
       "</style>\n",
       "<table border=\"1\" class=\"dataframe\">\n",
       "  <thead>\n",
       "    <tr style=\"text-align: right;\">\n",
       "      <th></th>\n",
       "      <th>date</th>\n",
       "      <th>state</th>\n",
       "      <th>births</th>\n",
       "      <th>MONTH_NAME</th>\n",
       "      <th>month_number</th>\n",
       "      <th>MONTH_NUMBER</th>\n",
       "      <th>year</th>\n",
       "    </tr>\n",
       "  </thead>\n",
       "  <tbody>\n",
       "    <tr>\n",
       "      <th>37828</th>\n",
       "      <td>2023-07-27</td>\n",
       "      <td>Malaysia</td>\n",
       "      <td>1199</td>\n",
       "      <td>July</td>\n",
       "      <td>7</td>\n",
       "      <td>7</td>\n",
       "      <td>2023</td>\n",
       "    </tr>\n",
       "    <tr>\n",
       "      <th>37829</th>\n",
       "      <td>2023-07-28</td>\n",
       "      <td>Malaysia</td>\n",
       "      <td>1220</td>\n",
       "      <td>July</td>\n",
       "      <td>7</td>\n",
       "      <td>7</td>\n",
       "      <td>2023</td>\n",
       "    </tr>\n",
       "    <tr>\n",
       "      <th>37830</th>\n",
       "      <td>2023-07-29</td>\n",
       "      <td>Malaysia</td>\n",
       "      <td>927</td>\n",
       "      <td>July</td>\n",
       "      <td>7</td>\n",
       "      <td>7</td>\n",
       "      <td>2023</td>\n",
       "    </tr>\n",
       "    <tr>\n",
       "      <th>37831</th>\n",
       "      <td>2023-07-30</td>\n",
       "      <td>Malaysia</td>\n",
       "      <td>938</td>\n",
       "      <td>July</td>\n",
       "      <td>7</td>\n",
       "      <td>7</td>\n",
       "      <td>2023</td>\n",
       "    </tr>\n",
       "    <tr>\n",
       "      <th>37832</th>\n",
       "      <td>2023-07-31</td>\n",
       "      <td>Malaysia</td>\n",
       "      <td>1098</td>\n",
       "      <td>July</td>\n",
       "      <td>7</td>\n",
       "      <td>7</td>\n",
       "      <td>2023</td>\n",
       "    </tr>\n",
       "  </tbody>\n",
       "</table>\n",
       "</div>"
      ],
      "text/plain": [
       "            date     state  births MONTH_NAME  month_number  MONTH_NUMBER  \\\n",
       "37828 2023-07-27  Malaysia    1199       July             7             7   \n",
       "37829 2023-07-28  Malaysia    1220       July             7             7   \n",
       "37830 2023-07-29  Malaysia     927       July             7             7   \n",
       "37831 2023-07-30  Malaysia     938       July             7             7   \n",
       "37832 2023-07-31  Malaysia    1098       July             7             7   \n",
       "\n",
       "       year  \n",
       "37828  2023  \n",
       "37829  2023  \n",
       "37830  2023  \n",
       "37831  2023  \n",
       "37832  2023  "
      ]
     },
     "execution_count": 31,
     "metadata": {},
     "output_type": "execute_result"
    }
   ],
   "source": [
    "df.tail()"
   ]
  },
  {
   "cell_type": "code",
   "execution_count": 32,
   "metadata": {},
   "outputs": [],
   "source": [
    "for i, x in enumerate(df['year']):\n",
    "    # Enumerate = generate a row number when we run a for loop.\n",
    "    # Here it is represented by i≠\n",
    "    if x <= 1945:\n",
    "        df.loc[i, 'generation'] = 'Silent Gen'\n",
    "    elif x <= 1964:\n",
    "        df.loc[i, 'generation'] = 'Boomers'\n",
    "    elif x <= 1980:\n",
    "        df.loc[i, 'generation'] = 'Gen X'\n",
    "    elif x <= 1996:\n",
    "        df.loc[i, 'generation'] = 'Gen Y'\n",
    "    else:\n",
    "        df.loc[i, 'generation'] = 'OTHERS'"
   ]
  },
  {
   "cell_type": "code",
   "execution_count": 33,
   "metadata": {},
   "outputs": [],
   "source": [
    "df2 = df.groupby('generation')['births'].mean().reset_index()"
   ]
  },
  {
   "cell_type": "code",
   "execution_count": 34,
   "metadata": {},
   "outputs": [],
   "source": [
    "df2.to_csv('generation.csv', index=False)"
   ]
  }
 ],
 "metadata": {
  "kernelspec": {
   "display_name": "python311env",
   "language": "python",
   "name": "python3"
  },
  "language_info": {
   "codemirror_mode": {
    "name": "ipython",
    "version": 3
   },
   "file_extension": ".py",
   "mimetype": "text/x-python",
   "name": "python",
   "nbconvert_exporter": "python",
   "pygments_lexer": "ipython3",
   "version": "3.12.1"
  }
 },
 "nbformat": 4,
 "nbformat_minor": 2
}
