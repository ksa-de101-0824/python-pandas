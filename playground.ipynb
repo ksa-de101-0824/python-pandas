{
 "cells": [
  {
   "cell_type": "code",
   "execution_count": 1,
   "metadata": {},
   "outputs": [],
   "source": [
    "import pandas as pd\n",
    "pd.set_option('display.max_columns', 500) "
   ]
  },
  {
   "cell_type": "code",
   "execution_count": 4,
   "metadata": {},
   "outputs": [
    {
     "data": {
      "text/html": [
       "<div>\n",
       "<style scoped>\n",
       "    .dataframe tbody tr th:only-of-type {\n",
       "        vertical-align: middle;\n",
       "    }\n",
       "\n",
       "    .dataframe tbody tr th {\n",
       "        vertical-align: top;\n",
       "    }\n",
       "\n",
       "    .dataframe thead th {\n",
       "        text-align: right;\n",
       "    }\n",
       "</style>\n",
       "<table border=\"1\" class=\"dataframe\">\n",
       "  <thead>\n",
       "    <tr style=\"text-align: right;\">\n",
       "      <th></th>\n",
       "      <th>date_reg</th>\n",
       "      <th>type</th>\n",
       "      <th>maker</th>\n",
       "      <th>model</th>\n",
       "      <th>colour</th>\n",
       "      <th>fuel</th>\n",
       "      <th>state</th>\n",
       "    </tr>\n",
       "  </thead>\n",
       "  <tbody>\n",
       "    <tr>\n",
       "      <th>0</th>\n",
       "      <td>2024-01-01</td>\n",
       "      <td>jip</td>\n",
       "      <td>Chery</td>\n",
       "      <td>Omoda 5</td>\n",
       "      <td>black</td>\n",
       "      <td>petrol</td>\n",
       "      <td>Rakan Niaga</td>\n",
       "    </tr>\n",
       "    <tr>\n",
       "      <th>1</th>\n",
       "      <td>2024-01-01</td>\n",
       "      <td>jip</td>\n",
       "      <td>Chery</td>\n",
       "      <td>Omoda 5</td>\n",
       "      <td>white</td>\n",
       "      <td>petrol</td>\n",
       "      <td>Rakan Niaga</td>\n",
       "    </tr>\n",
       "    <tr>\n",
       "      <th>2</th>\n",
       "      <td>2024-01-01</td>\n",
       "      <td>jip</td>\n",
       "      <td>Chery</td>\n",
       "      <td>Omoda 5</td>\n",
       "      <td>white</td>\n",
       "      <td>petrol</td>\n",
       "      <td>Rakan Niaga</td>\n",
       "    </tr>\n",
       "    <tr>\n",
       "      <th>3</th>\n",
       "      <td>2024-01-01</td>\n",
       "      <td>pick_up</td>\n",
       "      <td>Ford</td>\n",
       "      <td>Ranger</td>\n",
       "      <td>black</td>\n",
       "      <td>petrol</td>\n",
       "      <td>Johor</td>\n",
       "    </tr>\n",
       "    <tr>\n",
       "      <th>4</th>\n",
       "      <td>2024-01-01</td>\n",
       "      <td>pick_up</td>\n",
       "      <td>Ford</td>\n",
       "      <td>Ranger</td>\n",
       "      <td>orange</td>\n",
       "      <td>greendiesel</td>\n",
       "      <td>Johor</td>\n",
       "    </tr>\n",
       "  </tbody>\n",
       "</table>\n",
       "</div>"
      ],
      "text/plain": [
       "     date_reg     type  maker    model  colour         fuel        state\n",
       "0  2024-01-01      jip  Chery  Omoda 5   black       petrol  Rakan Niaga\n",
       "1  2024-01-01      jip  Chery  Omoda 5   white       petrol  Rakan Niaga\n",
       "2  2024-01-01      jip  Chery  Omoda 5   white       petrol  Rakan Niaga\n",
       "3  2024-01-01  pick_up   Ford   Ranger   black       petrol        Johor\n",
       "4  2024-01-01  pick_up   Ford   Ranger  orange  greendiesel        Johor"
      ]
     },
     "execution_count": 4,
     "metadata": {},
     "output_type": "execute_result"
    }
   ],
   "source": [
    "df_cars = pd.read_csv(\"Data/cars_2024.csv\")\n",
    "\n",
    "df_cars.head(5)\n",
    "\n"
   ]
  },
  {
   "cell_type": "code",
   "execution_count": 6,
   "metadata": {},
   "outputs": [
    {
     "data": {
      "text/html": [
       "<div>\n",
       "<style scoped>\n",
       "    .dataframe tbody tr th:only-of-type {\n",
       "        vertical-align: middle;\n",
       "    }\n",
       "\n",
       "    .dataframe tbody tr th {\n",
       "        vertical-align: top;\n",
       "    }\n",
       "\n",
       "    .dataframe thead th {\n",
       "        text-align: right;\n",
       "    }\n",
       "</style>\n",
       "<table border=\"1\" class=\"dataframe\">\n",
       "  <thead>\n",
       "    <tr style=\"text-align: right;\">\n",
       "      <th></th>\n",
       "      <th>date_reg</th>\n",
       "      <th>type</th>\n",
       "      <th>maker</th>\n",
       "      <th>model</th>\n",
       "      <th>colour</th>\n",
       "      <th>fuel</th>\n",
       "      <th>state</th>\n",
       "    </tr>\n",
       "  </thead>\n",
       "  <tbody>\n",
       "    <tr>\n",
       "      <th>487846</th>\n",
       "      <td>2024-07-31</td>\n",
       "      <td>jip</td>\n",
       "      <td>Volvo</td>\n",
       "      <td>XC40</td>\n",
       "      <td>white</td>\n",
       "      <td>electric</td>\n",
       "      <td>Rakan Niaga</td>\n",
       "    </tr>\n",
       "    <tr>\n",
       "      <th>487847</th>\n",
       "      <td>2024-07-31</td>\n",
       "      <td>jip</td>\n",
       "      <td>Volvo</td>\n",
       "      <td>XC40</td>\n",
       "      <td>grey</td>\n",
       "      <td>hybrid_petrol</td>\n",
       "      <td>Rakan Niaga</td>\n",
       "    </tr>\n",
       "    <tr>\n",
       "      <th>487848</th>\n",
       "      <td>2024-07-31</td>\n",
       "      <td>jip</td>\n",
       "      <td>Volvo</td>\n",
       "      <td>XC60</td>\n",
       "      <td>grey</td>\n",
       "      <td>hybrid_petrol</td>\n",
       "      <td>Rakan Niaga</td>\n",
       "    </tr>\n",
       "    <tr>\n",
       "      <th>487849</th>\n",
       "      <td>2024-07-31</td>\n",
       "      <td>jip</td>\n",
       "      <td>Volvo</td>\n",
       "      <td>XC90</td>\n",
       "      <td>black</td>\n",
       "      <td>hybrid_petrol</td>\n",
       "      <td>Rakan Niaga</td>\n",
       "    </tr>\n",
       "    <tr>\n",
       "      <th>487850</th>\n",
       "      <td>2024-07-31</td>\n",
       "      <td>jip</td>\n",
       "      <td>Volvo</td>\n",
       "      <td>XC90</td>\n",
       "      <td>white</td>\n",
       "      <td>hybrid_petrol</td>\n",
       "      <td>Rakan Niaga</td>\n",
       "    </tr>\n",
       "  </tbody>\n",
       "</table>\n",
       "</div>"
      ],
      "text/plain": [
       "          date_reg type  maker model colour           fuel        state\n",
       "487846  2024-07-31  jip  Volvo  XC40  white       electric  Rakan Niaga\n",
       "487847  2024-07-31  jip  Volvo  XC40   grey  hybrid_petrol  Rakan Niaga\n",
       "487848  2024-07-31  jip  Volvo  XC60   grey  hybrid_petrol  Rakan Niaga\n",
       "487849  2024-07-31  jip  Volvo  XC90  black  hybrid_petrol  Rakan Niaga\n",
       "487850  2024-07-31  jip  Volvo  XC90  white  hybrid_petrol  Rakan Niaga"
      ]
     },
     "execution_count": 6,
     "metadata": {},
     "output_type": "execute_result"
    }
   ],
   "source": [
    "df_cars.tail()"
   ]
  },
  {
   "cell_type": "code",
   "execution_count": 8,
   "metadata": {},
   "outputs": [
    {
     "data": {
      "text/plain": [
       "0         Chery\n",
       "1         Chery\n",
       "2         Chery\n",
       "3          Ford\n",
       "4          Ford\n",
       "          ...  \n",
       "487846    Volvo\n",
       "487847    Volvo\n",
       "487848    Volvo\n",
       "487849    Volvo\n",
       "487850    Volvo\n",
       "Name: maker, Length: 487851, dtype: object"
      ]
     },
     "execution_count": 8,
     "metadata": {},
     "output_type": "execute_result"
    }
   ],
   "source": [
    "df_cars['maker']"
   ]
  },
  {
   "cell_type": "code",
   "execution_count": 9,
   "metadata": {},
   "outputs": [
    {
     "data": {
      "text/html": [
       "<div>\n",
       "<style scoped>\n",
       "    .dataframe tbody tr th:only-of-type {\n",
       "        vertical-align: middle;\n",
       "    }\n",
       "\n",
       "    .dataframe tbody tr th {\n",
       "        vertical-align: top;\n",
       "    }\n",
       "\n",
       "    .dataframe thead th {\n",
       "        text-align: right;\n",
       "    }\n",
       "</style>\n",
       "<table border=\"1\" class=\"dataframe\">\n",
       "  <thead>\n",
       "    <tr style=\"text-align: right;\">\n",
       "      <th></th>\n",
       "      <th>date_reg</th>\n",
       "      <th>type</th>\n",
       "      <th>maker</th>\n",
       "      <th>model</th>\n",
       "      <th>colour</th>\n",
       "      <th>fuel</th>\n",
       "      <th>state</th>\n",
       "    </tr>\n",
       "  </thead>\n",
       "  <tbody>\n",
       "    <tr>\n",
       "      <th>89</th>\n",
       "      <td>2024-01-02</td>\n",
       "      <td>motokar</td>\n",
       "      <td>Honda</td>\n",
       "      <td>City</td>\n",
       "      <td>grey</td>\n",
       "      <td>hybrid_petrol</td>\n",
       "      <td>Rakan Niaga</td>\n",
       "    </tr>\n",
       "    <tr>\n",
       "      <th>90</th>\n",
       "      <td>2024-01-02</td>\n",
       "      <td>motokar</td>\n",
       "      <td>Honda</td>\n",
       "      <td>City</td>\n",
       "      <td>red</td>\n",
       "      <td>petrol</td>\n",
       "      <td>Rakan Niaga</td>\n",
       "    </tr>\n",
       "    <tr>\n",
       "      <th>91</th>\n",
       "      <td>2024-01-02</td>\n",
       "      <td>motokar</td>\n",
       "      <td>Honda</td>\n",
       "      <td>Civic</td>\n",
       "      <td>black</td>\n",
       "      <td>petrol</td>\n",
       "      <td>W.P. Kuala Lumpur</td>\n",
       "    </tr>\n",
       "    <tr>\n",
       "      <th>92</th>\n",
       "      <td>2024-01-02</td>\n",
       "      <td>motokar</td>\n",
       "      <td>Honda</td>\n",
       "      <td>Civic</td>\n",
       "      <td>white</td>\n",
       "      <td>petrol</td>\n",
       "      <td>W.P. Kuala Lumpur</td>\n",
       "    </tr>\n",
       "    <tr>\n",
       "      <th>93</th>\n",
       "      <td>2024-01-02</td>\n",
       "      <td>motokar</td>\n",
       "      <td>Honda</td>\n",
       "      <td>Civic</td>\n",
       "      <td>blue</td>\n",
       "      <td>petrol</td>\n",
       "      <td>W.P. Kuala Lumpur</td>\n",
       "    </tr>\n",
       "    <tr>\n",
       "      <th>94</th>\n",
       "      <td>2024-01-02</td>\n",
       "      <td>motokar</td>\n",
       "      <td>Honda</td>\n",
       "      <td>Civic</td>\n",
       "      <td>white</td>\n",
       "      <td>petrol</td>\n",
       "      <td>Rakan Niaga</td>\n",
       "    </tr>\n",
       "    <tr>\n",
       "      <th>95</th>\n",
       "      <td>2024-01-02</td>\n",
       "      <td>motokar</td>\n",
       "      <td>Honda</td>\n",
       "      <td>Civic</td>\n",
       "      <td>black</td>\n",
       "      <td>petrol</td>\n",
       "      <td>Rakan Niaga</td>\n",
       "    </tr>\n",
       "    <tr>\n",
       "      <th>96</th>\n",
       "      <td>2024-01-02</td>\n",
       "      <td>motokar</td>\n",
       "      <td>Honda</td>\n",
       "      <td>Civic</td>\n",
       "      <td>red</td>\n",
       "      <td>hybrid_petrol</td>\n",
       "      <td>Rakan Niaga</td>\n",
       "    </tr>\n",
       "    <tr>\n",
       "      <th>97</th>\n",
       "      <td>2024-01-02</td>\n",
       "      <td>motokar</td>\n",
       "      <td>Honda</td>\n",
       "      <td>Civic</td>\n",
       "      <td>black</td>\n",
       "      <td>petrol</td>\n",
       "      <td>Rakan Niaga</td>\n",
       "    </tr>\n",
       "    <tr>\n",
       "      <th>98</th>\n",
       "      <td>2024-01-02</td>\n",
       "      <td>motokar</td>\n",
       "      <td>Honda</td>\n",
       "      <td>HR-V</td>\n",
       "      <td>red</td>\n",
       "      <td>petrol</td>\n",
       "      <td>Pulau Pinang</td>\n",
       "    </tr>\n",
       "    <tr>\n",
       "      <th>99</th>\n",
       "      <td>2024-01-02</td>\n",
       "      <td>motokar</td>\n",
       "      <td>Honda</td>\n",
       "      <td>HR-V</td>\n",
       "      <td>grey</td>\n",
       "      <td>petrol</td>\n",
       "      <td>Perak</td>\n",
       "    </tr>\n",
       "  </tbody>\n",
       "</table>\n",
       "</div>"
      ],
      "text/plain": [
       "      date_reg     type  maker  model colour           fuel              state\n",
       "89  2024-01-02  motokar  Honda   City   grey  hybrid_petrol        Rakan Niaga\n",
       "90  2024-01-02  motokar  Honda   City    red         petrol        Rakan Niaga\n",
       "91  2024-01-02  motokar  Honda  Civic  black         petrol  W.P. Kuala Lumpur\n",
       "92  2024-01-02  motokar  Honda  Civic  white         petrol  W.P. Kuala Lumpur\n",
       "93  2024-01-02  motokar  Honda  Civic   blue         petrol  W.P. Kuala Lumpur\n",
       "94  2024-01-02  motokar  Honda  Civic  white         petrol        Rakan Niaga\n",
       "95  2024-01-02  motokar  Honda  Civic  black         petrol        Rakan Niaga\n",
       "96  2024-01-02  motokar  Honda  Civic    red  hybrid_petrol        Rakan Niaga\n",
       "97  2024-01-02  motokar  Honda  Civic  black         petrol        Rakan Niaga\n",
       "98  2024-01-02  motokar  Honda   HR-V    red         petrol       Pulau Pinang\n",
       "99  2024-01-02  motokar  Honda   HR-V   grey         petrol              Perak"
      ]
     },
     "metadata": {},
     "output_type": "display_data"
    }
   ],
   "source": [
    "display(df_cars[89: 100])"
   ]
  },
  {
   "cell_type": "code",
   "execution_count": 10,
   "metadata": {},
   "outputs": [
    {
     "data": {
      "text/plain": [
       "Index(['date_reg', 'type', 'maker', 'model', 'colour', 'fuel', 'state'], dtype='object')"
      ]
     },
     "execution_count": 10,
     "metadata": {},
     "output_type": "execute_result"
    }
   ],
   "source": [
    "df_cars.columns"
   ]
  },
  {
   "cell_type": "code",
   "execution_count": 11,
   "metadata": {},
   "outputs": [
    {
     "data": {
      "text/plain": [
       "['date_reg', 'type', 'maker', 'model', 'colour', 'fuel', 'state']"
      ]
     },
     "execution_count": 11,
     "metadata": {},
     "output_type": "execute_result"
    }
   ],
   "source": [
    "list(df_cars.columns)"
   ]
  },
  {
   "cell_type": "code",
   "execution_count": 12,
   "metadata": {},
   "outputs": [
    {
     "name": "stdout",
     "output_type": "stream",
     "text": [
      "<class 'pandas.core.frame.DataFrame'>\n",
      "RangeIndex: 487851 entries, 0 to 487850\n",
      "Data columns (total 7 columns):\n",
      " #   Column    Non-Null Count   Dtype \n",
      "---  ------    --------------   ----- \n",
      " 0   date_reg  487851 non-null  object\n",
      " 1   type      487851 non-null  object\n",
      " 2   maker     487851 non-null  object\n",
      " 3   model     487851 non-null  object\n",
      " 4   colour    487851 non-null  object\n",
      " 5   fuel      487851 non-null  object\n",
      " 6   state     487851 non-null  object\n",
      "dtypes: object(7)\n",
      "memory usage: 26.1+ MB\n"
     ]
    }
   ],
   "source": [
    "df_cars.info()"
   ]
  },
  {
   "cell_type": "code",
   "execution_count": 13,
   "metadata": {},
   "outputs": [
    {
     "data": {
      "text/html": [
       "<div>\n",
       "<style scoped>\n",
       "    .dataframe tbody tr th:only-of-type {\n",
       "        vertical-align: middle;\n",
       "    }\n",
       "\n",
       "    .dataframe tbody tr th {\n",
       "        vertical-align: top;\n",
       "    }\n",
       "\n",
       "    .dataframe thead th {\n",
       "        text-align: right;\n",
       "    }\n",
       "</style>\n",
       "<table border=\"1\" class=\"dataframe\">\n",
       "  <thead>\n",
       "    <tr style=\"text-align: right;\">\n",
       "      <th></th>\n",
       "      <th>date_reg</th>\n",
       "      <th>type</th>\n",
       "      <th>maker</th>\n",
       "      <th>model</th>\n",
       "      <th>colour</th>\n",
       "      <th>fuel</th>\n",
       "      <th>state</th>\n",
       "    </tr>\n",
       "  </thead>\n",
       "  <tbody>\n",
       "    <tr>\n",
       "      <th>count</th>\n",
       "      <td>487851</td>\n",
       "      <td>487851</td>\n",
       "      <td>487851</td>\n",
       "      <td>487851</td>\n",
       "      <td>487851</td>\n",
       "      <td>487851</td>\n",
       "      <td>487851</td>\n",
       "    </tr>\n",
       "    <tr>\n",
       "      <th>unique</th>\n",
       "      <td>212</td>\n",
       "      <td>5</td>\n",
       "      <td>80</td>\n",
       "      <td>449</td>\n",
       "      <td>15</td>\n",
       "      <td>7</td>\n",
       "      <td>16</td>\n",
       "    </tr>\n",
       "    <tr>\n",
       "      <th>top</th>\n",
       "      <td>2024-02-29</td>\n",
       "      <td>motokar</td>\n",
       "      <td>Perodua</td>\n",
       "      <td>Bezza</td>\n",
       "      <td>grey</td>\n",
       "      <td>petrol</td>\n",
       "      <td>Rakan Niaga</td>\n",
       "    </tr>\n",
       "    <tr>\n",
       "      <th>freq</th>\n",
       "      <td>12950</td>\n",
       "      <td>303822</td>\n",
       "      <td>201942</td>\n",
       "      <td>55080</td>\n",
       "      <td>125690</td>\n",
       "      <td>429530</td>\n",
       "      <td>417594</td>\n",
       "    </tr>\n",
       "  </tbody>\n",
       "</table>\n",
       "</div>"
      ],
      "text/plain": [
       "          date_reg     type    maker   model  colour    fuel        state\n",
       "count       487851   487851   487851  487851  487851  487851       487851\n",
       "unique         212        5       80     449      15       7           16\n",
       "top     2024-02-29  motokar  Perodua   Bezza    grey  petrol  Rakan Niaga\n",
       "freq         12950   303822   201942   55080  125690  429530       417594"
      ]
     },
     "execution_count": 13,
     "metadata": {},
     "output_type": "execute_result"
    }
   ],
   "source": [
    "df_cars.describe()"
   ]
  },
  {
   "cell_type": "code",
   "execution_count": 15,
   "metadata": {},
   "outputs": [
    {
     "data": {
      "text/plain": [
       "(487851, 7)"
      ]
     },
     "execution_count": 15,
     "metadata": {},
     "output_type": "execute_result"
    }
   ],
   "source": [
    "df_cars.shape"
   ]
  },
  {
   "cell_type": "code",
   "execution_count": 16,
   "metadata": {},
   "outputs": [
    {
     "data": {
      "text/plain": [
       "487851"
      ]
     },
     "execution_count": 16,
     "metadata": {},
     "output_type": "execute_result"
    }
   ],
   "source": [
    "len(df_cars)"
   ]
  },
  {
   "cell_type": "code",
   "execution_count": 20,
   "metadata": {},
   "outputs": [
    {
     "data": {
      "text/html": [
       "<div>\n",
       "<style scoped>\n",
       "    .dataframe tbody tr th:only-of-type {\n",
       "        vertical-align: middle;\n",
       "    }\n",
       "\n",
       "    .dataframe tbody tr th {\n",
       "        vertical-align: top;\n",
       "    }\n",
       "\n",
       "    .dataframe thead th {\n",
       "        text-align: right;\n",
       "    }\n",
       "</style>\n",
       "<table border=\"1\" class=\"dataframe\">\n",
       "  <thead>\n",
       "    <tr style=\"text-align: right;\">\n",
       "      <th></th>\n",
       "      <th>date_reg</th>\n",
       "      <th>type</th>\n",
       "      <th>maker</th>\n",
       "      <th>model</th>\n",
       "      <th>colour</th>\n",
       "      <th>fuel</th>\n",
       "      <th>state</th>\n",
       "    </tr>\n",
       "  </thead>\n",
       "  <tbody>\n",
       "    <tr>\n",
       "      <th>34</th>\n",
       "      <td>2024-01-01</td>\n",
       "      <td>jip</td>\n",
       "      <td>Perodua</td>\n",
       "      <td>Ativa</td>\n",
       "      <td>white</td>\n",
       "      <td>petrol</td>\n",
       "      <td>Rakan Niaga</td>\n",
       "    </tr>\n",
       "    <tr>\n",
       "      <th>35</th>\n",
       "      <td>2024-01-01</td>\n",
       "      <td>motokar</td>\n",
       "      <td>Perodua</td>\n",
       "      <td>Myvi</td>\n",
       "      <td>silver</td>\n",
       "      <td>petrol</td>\n",
       "      <td>Rakan Niaga</td>\n",
       "    </tr>\n",
       "    <tr>\n",
       "      <th>215</th>\n",
       "      <td>2024-01-02</td>\n",
       "      <td>motokar_pelbagai_utiliti</td>\n",
       "      <td>Perodua</td>\n",
       "      <td>Alza</td>\n",
       "      <td>black</td>\n",
       "      <td>petrol</td>\n",
       "      <td>Rakan Niaga</td>\n",
       "    </tr>\n",
       "    <tr>\n",
       "      <th>216</th>\n",
       "      <td>2024-01-02</td>\n",
       "      <td>motokar_pelbagai_utiliti</td>\n",
       "      <td>Perodua</td>\n",
       "      <td>Alza</td>\n",
       "      <td>black</td>\n",
       "      <td>petrol</td>\n",
       "      <td>W.P. Labuan</td>\n",
       "    </tr>\n",
       "    <tr>\n",
       "      <th>217</th>\n",
       "      <td>2024-01-02</td>\n",
       "      <td>motokar_pelbagai_utiliti</td>\n",
       "      <td>Perodua</td>\n",
       "      <td>Alza</td>\n",
       "      <td>black</td>\n",
       "      <td>petrol</td>\n",
       "      <td>Rakan Niaga</td>\n",
       "    </tr>\n",
       "  </tbody>\n",
       "</table>\n",
       "</div>"
      ],
      "text/plain": [
       "       date_reg                      type    maker  model  colour    fuel  \\\n",
       "34   2024-01-01                       jip  Perodua  Ativa   white  petrol   \n",
       "35   2024-01-01                   motokar  Perodua   Myvi  silver  petrol   \n",
       "215  2024-01-02  motokar_pelbagai_utiliti  Perodua   Alza   black  petrol   \n",
       "216  2024-01-02  motokar_pelbagai_utiliti  Perodua   Alza   black  petrol   \n",
       "217  2024-01-02  motokar_pelbagai_utiliti  Perodua   Alza   black  petrol   \n",
       "\n",
       "           state  \n",
       "34   Rakan Niaga  \n",
       "35   Rakan Niaga  \n",
       "215  Rakan Niaga  \n",
       "216  W.P. Labuan  \n",
       "217  Rakan Niaga  "
      ]
     },
     "execution_count": 20,
     "metadata": {},
     "output_type": "execute_result"
    }
   ],
   "source": [
    "df_cars_Perodua = df_cars.loc[df_cars['maker']=='Perodua']\n",
    "df_cars_Perodua.head()"
   ]
  },
  {
   "cell_type": "code",
   "execution_count": null,
   "metadata": {},
   "outputs": [],
   "source": []
  }
 ],
 "metadata": {
  "kernelspec": {
   "display_name": "Python 3",
   "language": "python",
   "name": "python3"
  },
  "language_info": {
   "codemirror_mode": {
    "name": "ipython",
    "version": 3
   },
   "file_extension": ".py",
   "mimetype": "text/x-python",
   "name": "python",
   "nbconvert_exporter": "python",
   "pygments_lexer": "ipython3",
   "version": "3.12.1"
  }
 },
 "nbformat": 4,
 "nbformat_minor": 2
}
