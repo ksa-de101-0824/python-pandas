{
 "cells": [
  {
   "cell_type": "code",
   "execution_count": 3,
   "metadata": {},
   "outputs": [],
   "source": [
    "import pandas as pd\n",
    "pd.set_option('display.max_columns', 500) \n",
    "\n",
    "# Set to show only how much columns"
   ]
  },
  {
   "cell_type": "code",
   "execution_count": 25,
   "metadata": {},
   "outputs": [],
   "source": [
    "df_cars = pd.read_csv(\"Data/cars_2024.csv\")"
   ]
  },
  {
   "cell_type": "code",
   "execution_count": 26,
   "metadata": {},
   "outputs": [
    {
     "data": {
      "text/plain": [
       "(487851, 7)"
      ]
     },
     "execution_count": 26,
     "metadata": {},
     "output_type": "execute_result"
    }
   ],
   "source": [
    "df_cars.shape"
   ]
  },
  {
   "cell_type": "code",
   "execution_count": 8,
   "metadata": {},
   "outputs": [
    {
     "data": {
      "text/html": [
       "<div>\n",
       "<style scoped>\n",
       "    .dataframe tbody tr th:only-of-type {\n",
       "        vertical-align: middle;\n",
       "    }\n",
       "\n",
       "    .dataframe tbody tr th {\n",
       "        vertical-align: top;\n",
       "    }\n",
       "\n",
       "    .dataframe thead th {\n",
       "        text-align: right;\n",
       "    }\n",
       "</style>\n",
       "<table border=\"1\" class=\"dataframe\">\n",
       "  <thead>\n",
       "    <tr style=\"text-align: right;\">\n",
       "      <th></th>\n",
       "      <th>date_reg</th>\n",
       "      <th>type</th>\n",
       "      <th>maker</th>\n",
       "      <th>model</th>\n",
       "      <th>colour</th>\n",
       "      <th>fuel</th>\n",
       "      <th>state</th>\n",
       "    </tr>\n",
       "  </thead>\n",
       "  <tbody>\n",
       "    <tr>\n",
       "      <th>0</th>\n",
       "      <td>2024-01-01</td>\n",
       "      <td>jip</td>\n",
       "      <td>Chery</td>\n",
       "      <td>Omoda 5</td>\n",
       "      <td>black</td>\n",
       "      <td>petrol</td>\n",
       "      <td>Rakan Niaga</td>\n",
       "    </tr>\n",
       "    <tr>\n",
       "      <th>1</th>\n",
       "      <td>2024-01-01</td>\n",
       "      <td>jip</td>\n",
       "      <td>Chery</td>\n",
       "      <td>Omoda 5</td>\n",
       "      <td>white</td>\n",
       "      <td>petrol</td>\n",
       "      <td>Rakan Niaga</td>\n",
       "    </tr>\n",
       "    <tr>\n",
       "      <th>2</th>\n",
       "      <td>2024-01-01</td>\n",
       "      <td>jip</td>\n",
       "      <td>Chery</td>\n",
       "      <td>Omoda 5</td>\n",
       "      <td>white</td>\n",
       "      <td>petrol</td>\n",
       "      <td>Rakan Niaga</td>\n",
       "    </tr>\n",
       "    <tr>\n",
       "      <th>3</th>\n",
       "      <td>2024-01-01</td>\n",
       "      <td>pick_up</td>\n",
       "      <td>Ford</td>\n",
       "      <td>Ranger</td>\n",
       "      <td>black</td>\n",
       "      <td>petrol</td>\n",
       "      <td>Johor</td>\n",
       "    </tr>\n",
       "    <tr>\n",
       "      <th>4</th>\n",
       "      <td>2024-01-01</td>\n",
       "      <td>pick_up</td>\n",
       "      <td>Ford</td>\n",
       "      <td>Ranger</td>\n",
       "      <td>orange</td>\n",
       "      <td>greendiesel</td>\n",
       "      <td>Johor</td>\n",
       "    </tr>\n",
       "  </tbody>\n",
       "</table>\n",
       "</div>"
      ],
      "text/plain": [
       "     date_reg     type  maker    model  colour         fuel        state\n",
       "0  2024-01-01      jip  Chery  Omoda 5   black       petrol  Rakan Niaga\n",
       "1  2024-01-01      jip  Chery  Omoda 5   white       petrol  Rakan Niaga\n",
       "2  2024-01-01      jip  Chery  Omoda 5   white       petrol  Rakan Niaga\n",
       "3  2024-01-01  pick_up   Ford   Ranger   black       petrol        Johor\n",
       "4  2024-01-01  pick_up   Ford   Ranger  orange  greendiesel        Johor"
      ]
     },
     "execution_count": 8,
     "metadata": {},
     "output_type": "execute_result"
    }
   ],
   "source": [
    "df_cars.head()"
   ]
  },
  {
   "cell_type": "code",
   "execution_count": 38,
   "metadata": {},
   "outputs": [
    {
     "data": {
      "text/html": [
       "<div>\n",
       "<style scoped>\n",
       "    .dataframe tbody tr th:only-of-type {\n",
       "        vertical-align: middle;\n",
       "    }\n",
       "\n",
       "    .dataframe tbody tr th {\n",
       "        vertical-align: top;\n",
       "    }\n",
       "\n",
       "    .dataframe thead th {\n",
       "        text-align: right;\n",
       "    }\n",
       "</style>\n",
       "<table border=\"1\" class=\"dataframe\">\n",
       "  <thead>\n",
       "    <tr style=\"text-align: right;\">\n",
       "      <th></th>\n",
       "      <th>0</th>\n",
       "    </tr>\n",
       "  </thead>\n",
       "  <tbody>\n",
       "    <tr>\n",
       "      <th>0</th>\n",
       "      <td>jip</td>\n",
       "    </tr>\n",
       "    <tr>\n",
       "      <th>1</th>\n",
       "      <td>pick_up</td>\n",
       "    </tr>\n",
       "    <tr>\n",
       "      <th>2</th>\n",
       "      <td>motokar</td>\n",
       "    </tr>\n",
       "    <tr>\n",
       "      <th>3</th>\n",
       "      <td>window_van</td>\n",
       "    </tr>\n",
       "    <tr>\n",
       "      <th>4</th>\n",
       "      <td>motokar_pelbagai_utiliti</td>\n",
       "    </tr>\n",
       "  </tbody>\n",
       "</table>\n",
       "</div>"
      ],
      "text/plain": [
       "                          0\n",
       "0                       jip\n",
       "1                   pick_up\n",
       "2                   motokar\n",
       "3                window_van\n",
       "4  motokar_pelbagai_utiliti"
      ]
     },
     "execution_count": 38,
     "metadata": {},
     "output_type": "execute_result"
    }
   ],
   "source": [
    "pd.DataFrame(df_cars['type'].unique())"
   ]
  },
  {
   "cell_type": "code",
   "execution_count": 41,
   "metadata": {},
   "outputs": [
    {
     "data": {
      "text/plain": [
       "array(['Chery', 'Ford', 'Honda', 'Hyundai', 'Isuzu', 'Lamborghini',\n",
       "       'Lexus', 'Mazda', 'Mercedes Benz', 'Mini', 'Mitsubishi', 'Perodua',\n",
       "       'Porsche', 'Proton', 'Subaru', 'Toyota', 'Aston Martin', 'BMW',\n",
       "       'BYD', 'Cam', 'Chrysler', 'Kia', 'Land Rover', 'Nissan', 'Peugeot',\n",
       "       'Smart', 'Tesla', 'Volvo', 'Weststar Maxus', 'Bentley', 'Daimler',\n",
       "       'Ferrari', 'Go Auto', 'Lotus', 'Neta', 'Suzuki', 'Foton',\n",
       "       'Great Wall', 'Jeep', 'Volkswagen', 'Audi', 'Bison', 'Mclaren',\n",
       "       'Rolls Royce', 'Ssangyong', 'Boon Koon', 'Maserati', 'Chevrolet',\n",
       "       'Renault', 'Daihatsu', 'King Long Xiamen', 'Jaguar', 'JMS',\n",
       "       'Alfa Romeo', 'Gac Motor', 'Fiat', 'MG', 'Higer',\n",
       "       'Bufori Malaysia', 'Inokom', 'Shineray', 'Foday',\n",
       "       'Mercedes-Maybach', 'Mitsuoka', 'Roewe', 'Vinfast',\n",
       "       'Golden Dragon', 'Dodge', 'Pontiac', 'BAIC', 'Xiamen', 'BAW',\n",
       "       'Lincoln', 'Chana', 'Zeekr', 'Cadillac', 'Jetour', 'Lancia',\n",
       "       'Xpeng', 'Dong Feng'], dtype=object)"
      ]
     },
     "execution_count": 41,
     "metadata": {},
     "output_type": "execute_result"
    }
   ],
   "source": [
    "# view as a table\n",
    "pd.DataFrame(df_cars['maker'].unique())\n",
    "\n",
    "# view as a list\n",
    "df_cars['maker'].unique()\n",
    "\n",
    "# to do distinct for all columns, but not prefer do this way\n",
    "for header_column in df_cars.columns:\n",
    "    print(df_cars[header_column].unique())"
   ]
  },
  {
   "cell_type": "code",
   "execution_count": 42,
   "metadata": {},
   "outputs": [],
   "source": [
    "# to identify row & column\n",
    "df_cars.shape"
   ]
  },
  {
   "cell_type": "code",
   "execution_count": 27,
   "metadata": {},
   "outputs": [
    {
     "data": {
      "text/plain": [
       "Index(['date_reg', 'type', 'maker', 'model', 'colour', 'fuel', 'state'], dtype='object')"
      ]
     },
     "execution_count": 27,
     "metadata": {},
     "output_type": "execute_result"
    }
   ],
   "source": [
    "# get all column name\n",
    "df_cars.columns"
   ]
  },
  {
   "cell_type": "code",
   "execution_count": 46,
   "metadata": {},
   "outputs": [
    {
     "data": {
      "text/html": [
       "<div>\n",
       "<style scoped>\n",
       "    .dataframe tbody tr th:only-of-type {\n",
       "        vertical-align: middle;\n",
       "    }\n",
       "\n",
       "    .dataframe tbody tr th {\n",
       "        vertical-align: top;\n",
       "    }\n",
       "\n",
       "    .dataframe thead th {\n",
       "        text-align: right;\n",
       "    }\n",
       "</style>\n",
       "<table border=\"1\" class=\"dataframe\">\n",
       "  <thead>\n",
       "    <tr style=\"text-align: right;\">\n",
       "      <th></th>\n",
       "      <th>fuel</th>\n",
       "    </tr>\n",
       "  </thead>\n",
       "  <tbody>\n",
       "    <tr>\n",
       "      <th>0</th>\n",
       "      <td>petrol</td>\n",
       "    </tr>\n",
       "    <tr>\n",
       "      <th>1</th>\n",
       "      <td>petrol</td>\n",
       "    </tr>\n",
       "    <tr>\n",
       "      <th>2</th>\n",
       "      <td>petrol</td>\n",
       "    </tr>\n",
       "    <tr>\n",
       "      <th>3</th>\n",
       "      <td>petrol</td>\n",
       "    </tr>\n",
       "    <tr>\n",
       "      <th>4</th>\n",
       "      <td>greendiesel</td>\n",
       "    </tr>\n",
       "    <tr>\n",
       "      <th>...</th>\n",
       "      <td>...</td>\n",
       "    </tr>\n",
       "    <tr>\n",
       "      <th>487846</th>\n",
       "      <td>electric</td>\n",
       "    </tr>\n",
       "    <tr>\n",
       "      <th>487847</th>\n",
       "      <td>hybrid_petrol</td>\n",
       "    </tr>\n",
       "    <tr>\n",
       "      <th>487848</th>\n",
       "      <td>hybrid_petrol</td>\n",
       "    </tr>\n",
       "    <tr>\n",
       "      <th>487849</th>\n",
       "      <td>hybrid_petrol</td>\n",
       "    </tr>\n",
       "    <tr>\n",
       "      <th>487850</th>\n",
       "      <td>hybrid_petrol</td>\n",
       "    </tr>\n",
       "  </tbody>\n",
       "</table>\n",
       "<p>487851 rows × 1 columns</p>\n",
       "</div>"
      ],
      "text/plain": [
       "                 fuel\n",
       "0              petrol\n",
       "1              petrol\n",
       "2              petrol\n",
       "3              petrol\n",
       "4         greendiesel\n",
       "...               ...\n",
       "487846       electric\n",
       "487847  hybrid_petrol\n",
       "487848  hybrid_petrol\n",
       "487849  hybrid_petrol\n",
       "487850  hybrid_petrol\n",
       "\n",
       "[487851 rows x 1 columns]"
      ]
     },
     "execution_count": 46,
     "metadata": {},
     "output_type": "execute_result"
    }
   ],
   "source": [
    "# get specific column value\n",
    "df_cars[['fuel']]"
   ]
  },
  {
   "cell_type": "code",
   "execution_count": 49,
   "metadata": {},
   "outputs": [],
   "source": [
    "# To get data with specific row and columns\n",
    "df_cars.loc[1:90,['maker','model']]"
   ]
  },
  {
   "cell_type": "code",
   "execution_count": 50,
   "metadata": {},
   "outputs": [
    {
     "data": {
      "text/plain": [
       "['date_reg', 'type', 'maker', 'model', 'colour', 'fuel', 'state']"
      ]
     },
     "execution_count": 50,
     "metadata": {},
     "output_type": "execute_result"
    }
   ],
   "source": [
    "# In order to change column name, you have to change header column into list first. \n",
    "list(df_cars.columns)"
   ]
  },
  {
   "cell_type": "code",
   "execution_count": 54,
   "metadata": {},
   "outputs": [],
   "source": [
    "New_column_name = ['RegistrationDate', 'CarType', 'CarMaker', 'CarModel', 'CarColour', 'CarFuel', 'State']"
   ]
  },
  {
   "cell_type": "code",
   "execution_count": 55,
   "metadata": {},
   "outputs": [],
   "source": [
    "df_cars.columns = New_column_name"
   ]
  },
  {
   "cell_type": "code",
   "execution_count": 56,
   "metadata": {},
   "outputs": [
    {
     "data": {
      "text/html": [
       "<div>\n",
       "<style scoped>\n",
       "    .dataframe tbody tr th:only-of-type {\n",
       "        vertical-align: middle;\n",
       "    }\n",
       "\n",
       "    .dataframe tbody tr th {\n",
       "        vertical-align: top;\n",
       "    }\n",
       "\n",
       "    .dataframe thead th {\n",
       "        text-align: right;\n",
       "    }\n",
       "</style>\n",
       "<table border=\"1\" class=\"dataframe\">\n",
       "  <thead>\n",
       "    <tr style=\"text-align: right;\">\n",
       "      <th></th>\n",
       "      <th>RegistrationDate</th>\n",
       "      <th>CarType</th>\n",
       "      <th>CarMaker</th>\n",
       "      <th>CarModel</th>\n",
       "      <th>CarColour</th>\n",
       "      <th>CarFuel</th>\n",
       "      <th>State</th>\n",
       "    </tr>\n",
       "  </thead>\n",
       "  <tbody>\n",
       "    <tr>\n",
       "      <th>0</th>\n",
       "      <td>2024-01-01</td>\n",
       "      <td>jip</td>\n",
       "      <td>Chery</td>\n",
       "      <td>Omoda 5</td>\n",
       "      <td>black</td>\n",
       "      <td>petrol</td>\n",
       "      <td>Rakan Niaga</td>\n",
       "    </tr>\n",
       "    <tr>\n",
       "      <th>1</th>\n",
       "      <td>2024-01-01</td>\n",
       "      <td>jip</td>\n",
       "      <td>Chery</td>\n",
       "      <td>Omoda 5</td>\n",
       "      <td>white</td>\n",
       "      <td>petrol</td>\n",
       "      <td>Rakan Niaga</td>\n",
       "    </tr>\n",
       "    <tr>\n",
       "      <th>2</th>\n",
       "      <td>2024-01-01</td>\n",
       "      <td>jip</td>\n",
       "      <td>Chery</td>\n",
       "      <td>Omoda 5</td>\n",
       "      <td>white</td>\n",
       "      <td>petrol</td>\n",
       "      <td>Rakan Niaga</td>\n",
       "    </tr>\n",
       "    <tr>\n",
       "      <th>3</th>\n",
       "      <td>2024-01-01</td>\n",
       "      <td>pick_up</td>\n",
       "      <td>Ford</td>\n",
       "      <td>Ranger</td>\n",
       "      <td>black</td>\n",
       "      <td>petrol</td>\n",
       "      <td>Johor</td>\n",
       "    </tr>\n",
       "    <tr>\n",
       "      <th>4</th>\n",
       "      <td>2024-01-01</td>\n",
       "      <td>pick_up</td>\n",
       "      <td>Ford</td>\n",
       "      <td>Ranger</td>\n",
       "      <td>orange</td>\n",
       "      <td>greendiesel</td>\n",
       "      <td>Johor</td>\n",
       "    </tr>\n",
       "  </tbody>\n",
       "</table>\n",
       "</div>"
      ],
      "text/plain": [
       "  RegistrationDate  CarType CarMaker CarModel CarColour      CarFuel  \\\n",
       "0       2024-01-01      jip    Chery  Omoda 5     black       petrol   \n",
       "1       2024-01-01      jip    Chery  Omoda 5     white       petrol   \n",
       "2       2024-01-01      jip    Chery  Omoda 5     white       petrol   \n",
       "3       2024-01-01  pick_up     Ford   Ranger     black       petrol   \n",
       "4       2024-01-01  pick_up     Ford   Ranger    orange  greendiesel   \n",
       "\n",
       "         State  \n",
       "0  Rakan Niaga  \n",
       "1  Rakan Niaga  \n",
       "2  Rakan Niaga  \n",
       "3        Johor  \n",
       "4        Johor  "
      ]
     },
     "execution_count": 56,
     "metadata": {},
     "output_type": "execute_result"
    }
   ],
   "source": [
    "df_cars.head()"
   ]
  },
  {
   "cell_type": "code",
   "execution_count": 57,
   "metadata": {},
   "outputs": [
    {
     "name": "stdout",
     "output_type": "stream",
     "text": [
      "<class 'pandas.core.frame.DataFrame'>\n",
      "RangeIndex: 487851 entries, 0 to 487850\n",
      "Data columns (total 7 columns):\n",
      " #   Column            Non-Null Count   Dtype \n",
      "---  ------            --------------   ----- \n",
      " 0   RegistrationDate  487851 non-null  object\n",
      " 1   CarType           487851 non-null  object\n",
      " 2   CarMaker          487851 non-null  object\n",
      " 3   CarModel          487851 non-null  object\n",
      " 4   CarColour         487851 non-null  object\n",
      " 5   CarFuel           487851 non-null  object\n",
      " 6   State             487851 non-null  object\n",
      "dtypes: object(7)\n",
      "memory usage: 26.1+ MB\n"
     ]
    }
   ],
   "source": [
    "df_cars.info()"
   ]
  },
  {
   "cell_type": "code",
   "execution_count": null,
   "metadata": {},
   "outputs": [],
   "source": [
    "# To change dataType string into Date for 'RegistrationDate'\n",
    "df_cars['RegistrationDate'] = pd.to_datetime()"
   ]
  }
 ],
 "metadata": {
  "kernelspec": {
   "display_name": "Python 3",
   "language": "python",
   "name": "python3"
  },
  "language_info": {
   "codemirror_mode": {
    "name": "ipython",
    "version": 3
   },
   "file_extension": ".py",
   "mimetype": "text/x-python",
   "name": "python",
   "nbconvert_exporter": "python",
   "pygments_lexer": "ipython3",
   "version": "3.12.1"
  }
 },
 "nbformat": 4,
 "nbformat_minor": 2
}
